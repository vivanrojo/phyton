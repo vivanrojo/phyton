{
 "cells": [
  {
   "cell_type": "markdown",
   "id": "227e2074",
   "metadata": {},
   "source": [
    "<center>\n",
    "   <span style=\"color:red; font-size:30px\">\n",
    "      LISTAS POR COMPRENSION\n",
    "   </span>\n",
    "</center>"
   ]
  },
  {
   "cell_type": "markdown",
   "id": "8fbff8e9",
   "metadata": {},
   "source": [
    "<span style=\"color:blue; font-size:15px\">\n",
    "   EJEMPLO 01: \n",
    "   <span style=\"color:purple; font-size:15px\">\n",
    "      DIVERSOS EJEMPLOS DONDE USAREMOS LISTAS POR COMPRENSION\n",
    "   </span>\n",
    "</span>"
   ]
  },
  {
   "cell_type": "code",
   "execution_count": 14,
   "id": "ed2cb7e7",
   "metadata": {},
   "outputs": [
    {
     "name": "stdout",
     "output_type": "stream",
     "text": [
      "(5) COMBINACION DE DOS LISTAS\n",
      "[('a', 1), ('a', 2), ('a', 3), ('e', 1), ('e', 2), ('e', 3), ('i', 1), ('i', 2), ('i', 3), ('o', 1), ('o', 2), ('o', 3), ('u', 1), ('u', 2), ('u', 3)]\n",
      "[('a', 1), ('a', 2), ('a', 3), ('e', 1), ('e', 2), ('e', 3), ('i', 1), ('i', 2), ('i', 3), ('o', 1), ('o', 2), ('o', 3), ('u', 1), ('u', 2), ('u', 3)]\n"
     ]
    }
   ],
   "source": [
    "import random\n",
    "\"\"\"\n",
    "print('(1) GENERAR UNA LISTA DE TAMAÑO 10 CON NUMEROS ALEATORIOS DEL DADO')\n",
    "# Forma tradicional\n",
    "lista = []\n",
    "for i in range(10):\n",
    "    lista.append(random.randint(1,6))\n",
    "print(lista)\n",
    "# Lista por comprensión\n",
    "lista = [random.randint(1,6) for _ in range(10)]\n",
    "print(lista)\n",
    "\n",
    "print('(2) DADA UNA LISTA GENERAR DOS LISTAS UNA DE PARES Y OTRA DE IMPARES')\n",
    "lista = [random.randint(1,6) for _ in range(10)]\n",
    "# Forma Tradicional\n",
    "listap = []\n",
    "listai = []\n",
    "for e in lista:\n",
    "    if e % 2 == 0:\n",
    "       listap.append(e)\n",
    "    else:\n",
    "       listai.append(e)\n",
    "print(lista)\n",
    "print(listap)\n",
    "print(listai)\n",
    "# lista por comprension\n",
    "lista = [random.randint(1,6) for _ in range(10)]\n",
    "listap = [e for e in lista if e % 2 == 0]\n",
    "listai = [e for e in lista if e % 2 != 0]\n",
    "print(lista)\n",
    "print(listap)\n",
    "print(listai)\n",
    "print('(3)CUADRADO DE LOS PRIMEROS 5 NUMEROS ENTEROS')\n",
    "# Forma tradicional\n",
    "lista = []\n",
    "for i in range(1,6):\n",
    "    lista.append(i**2)\n",
    "print(lista)\n",
    "# Lista de comprension\n",
    "lista = [i**2 for i in range(1,6)]\n",
    "print(lista)\n",
    "print('(4) CONVERTIR UNA LISTA DE PALABRAS EN MAYUSCULAS')\n",
    "palabras = ['java','python','javascript','php']\n",
    "# Forma tradicional\n",
    "mayusculas = []\n",
    "for e in palabras:\n",
    "    mayusculas.append(e.upper())\n",
    "print(palabras)\n",
    "print(mayusculas)\n",
    "# lista de comprension\n",
    "mayusculas = [e.upper() for e in palabras]\n",
    "print(palabras)\n",
    "print(mayusculas)\n",
    "\"\"\"\n",
    "print('(5) COMBINACION DE DOS LISTAS')\n",
    "lista1 = ['a','e','i','o','u']\n",
    "lista2 = [1, 2, 3]\n",
    "lista = []\n",
    "# Forma tradicional\n",
    "for letra in lista1:\n",
    "    for numero in lista2:\n",
    "        lista.append((letra,numero))\n",
    "print(lista) \n",
    "# Lista por comprension\n",
    "lista = [(letra,numero) for letra in lista1 for numero in lista2]\n",
    "print(lista)"
   ]
  }
 ],
 "metadata": {
  "kernelspec": {
   "display_name": "Python 3 (ipykernel)",
   "language": "python",
   "name": "python3"
  },
  "language_info": {
   "codemirror_mode": {
    "name": "ipython",
    "version": 3
   },
   "file_extension": ".py",
   "mimetype": "text/x-python",
   "name": "python",
   "nbconvert_exporter": "python",
   "pygments_lexer": "ipython3",
   "version": "3.11.5"
  }
 },
 "nbformat": 4,
 "nbformat_minor": 5
}
