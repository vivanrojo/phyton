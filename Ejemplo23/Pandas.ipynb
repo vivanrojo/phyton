{
 "cells": [
  {
   "cell_type": "markdown",
   "id": "61c192f5",
   "metadata": {},
   "source": [
    "<center>\n",
    "   <span style=\"color:red; font-size:30px\">\n",
    "      PANDAS\n",
    "   </span>\n",
    "</center>"
   ]
  },
  {
   "cell_type": "markdown",
   "id": "5c10bc01",
   "metadata": {},
   "source": [
    "<span style=\"color:blue; font-size:15px\">\n",
    "   EJEMPLO 01: \n",
    "   <span style=\"color:purple; font-size:15px\">\n",
    "      CARGAR LIBRERIAS\n",
    "   </span>\n",
    "</span>"
   ]
  },
  {
   "cell_type": "code",
   "execution_count": 3,
   "id": "8dbcec52",
   "metadata": {},
   "outputs": [],
   "source": [
    "import pandas as pd \n",
    "import matplotlib.pyplot as plt"
   ]
  },
  {
   "cell_type": "markdown",
   "id": "1175fbb7",
   "metadata": {},
   "source": [
    "<span style=\"color:blue; font-size:15px\">\n",
    "   EJEMPLO 01: \n",
    "   <span style=\"color:purple; font-size:15px\">\n",
    "      LEER UN ARCHIVO CSV PARA MOSTRARLO\n",
    "   </span>\n",
    "</span>"
   ]
  },
  {
   "cell_type": "code",
   "execution_count": 4,
   "id": "59a226c6",
   "metadata": {},
   "outputs": [
    {
     "name": "stdout",
     "output_type": "stream",
     "text": [
      "  Pais  Medalla_Oro  Medalla_Plata  Medalla_Bronce\n",
      "0  USA         2235           1252            1098\n",
      "1  URS          838            627             584\n",
      "2  GBR          546            621             553\n",
      "3  ITA          476            416             404\n",
      "4  GER          452            378             475\n",
      "5  HUN          412            316             351\n",
      "6  FRA          408            491             497\n",
      "7  SWE          349            367             328\n",
      "8  GDR          329            271             225\n",
      "9  AUS          312            405             472\n"
     ]
    },
    {
     "data": {
      "text/html": [
       "<div>\n",
       "<style scoped>\n",
       "    .dataframe tbody tr th:only-of-type {\n",
       "        vertical-align: middle;\n",
       "    }\n",
       "\n",
       "    .dataframe tbody tr th {\n",
       "        vertical-align: top;\n",
       "    }\n",
       "\n",
       "    .dataframe thead th {\n",
       "        text-align: right;\n",
       "    }\n",
       "</style>\n",
       "<table border=\"1\" class=\"dataframe\">\n",
       "  <thead>\n",
       "    <tr style=\"text-align: right;\">\n",
       "      <th></th>\n",
       "      <th>Pais</th>\n",
       "      <th>Medalla_Oro</th>\n",
       "      <th>Medalla_Plata</th>\n",
       "      <th>Medalla_Bronce</th>\n",
       "    </tr>\n",
       "  </thead>\n",
       "  <tbody>\n",
       "    <tr>\n",
       "      <th>0</th>\n",
       "      <td>USA</td>\n",
       "      <td>2235</td>\n",
       "      <td>1252</td>\n",
       "      <td>1098</td>\n",
       "    </tr>\n",
       "    <tr>\n",
       "      <th>1</th>\n",
       "      <td>URS</td>\n",
       "      <td>838</td>\n",
       "      <td>627</td>\n",
       "      <td>584</td>\n",
       "    </tr>\n",
       "    <tr>\n",
       "      <th>2</th>\n",
       "      <td>GBR</td>\n",
       "      <td>546</td>\n",
       "      <td>621</td>\n",
       "      <td>553</td>\n",
       "    </tr>\n",
       "    <tr>\n",
       "      <th>3</th>\n",
       "      <td>ITA</td>\n",
       "      <td>476</td>\n",
       "      <td>416</td>\n",
       "      <td>404</td>\n",
       "    </tr>\n",
       "    <tr>\n",
       "      <th>4</th>\n",
       "      <td>GER</td>\n",
       "      <td>452</td>\n",
       "      <td>378</td>\n",
       "      <td>475</td>\n",
       "    </tr>\n",
       "    <tr>\n",
       "      <th>5</th>\n",
       "      <td>HUN</td>\n",
       "      <td>412</td>\n",
       "      <td>316</td>\n",
       "      <td>351</td>\n",
       "    </tr>\n",
       "    <tr>\n",
       "      <th>6</th>\n",
       "      <td>FRA</td>\n",
       "      <td>408</td>\n",
       "      <td>491</td>\n",
       "      <td>497</td>\n",
       "    </tr>\n",
       "    <tr>\n",
       "      <th>7</th>\n",
       "      <td>SWE</td>\n",
       "      <td>349</td>\n",
       "      <td>367</td>\n",
       "      <td>328</td>\n",
       "    </tr>\n",
       "    <tr>\n",
       "      <th>8</th>\n",
       "      <td>GDR</td>\n",
       "      <td>329</td>\n",
       "      <td>271</td>\n",
       "      <td>225</td>\n",
       "    </tr>\n",
       "    <tr>\n",
       "      <th>9</th>\n",
       "      <td>AUS</td>\n",
       "      <td>312</td>\n",
       "      <td>405</td>\n",
       "      <td>472</td>\n",
       "    </tr>\n",
       "  </tbody>\n",
       "</table>\n",
       "</div>"
      ],
      "text/plain": [
       "  Pais  Medalla_Oro  Medalla_Plata  Medalla_Bronce\n",
       "0  USA         2235           1252            1098\n",
       "1  URS          838            627             584\n",
       "2  GBR          546            621             553\n",
       "3  ITA          476            416             404\n",
       "4  GER          452            378             475\n",
       "5  HUN          412            316             351\n",
       "6  FRA          408            491             497\n",
       "7  SWE          349            367             328\n",
       "8  GDR          329            271             225\n",
       "9  AUS          312            405             472"
      ]
     },
     "execution_count": 4,
     "metadata": {},
     "output_type": "execute_result"
    }
   ],
   "source": [
    "df = pd.read_csv('medallas.csv', delimiter=';') # df = DataFrame\n",
    "print(df)\n",
    "df"
   ]
  },
  {
   "cell_type": "markdown",
   "id": "6d8d804a",
   "metadata": {},
   "source": [
    "<span style=\"color:blue; font-size:15px\">\n",
    "   EJEMPLO 03: \n",
    "   <span style=\"color:purple; font-size:15px\">\n",
    "      LEER UN ARCHIVO CSV Y LIMITAR LA CANTIDAD DE FILAS A MOSTRAR\n",
    "   </span>\n",
    "</span>"
   ]
  },
  {
   "cell_type": "code",
   "execution_count": 6,
   "id": "bb2fd751",
   "metadata": {},
   "outputs": [
    {
     "name": "stdout",
     "output_type": "stream",
     "text": [
      "  Pais  Medalla_Oro  Medalla_Plata  Medalla_Bronce\n",
      "0  USA         2235           1252            1098\n",
      "1  URS          838            627             584\n",
      "2  GBR          546            621             553\n",
      "3  ITA          476            416             404\n",
      "4  GER          452            378             475\n"
     ]
    },
    {
     "data": {
      "text/html": [
       "<div>\n",
       "<style scoped>\n",
       "    .dataframe tbody tr th:only-of-type {\n",
       "        vertical-align: middle;\n",
       "    }\n",
       "\n",
       "    .dataframe tbody tr th {\n",
       "        vertical-align: top;\n",
       "    }\n",
       "\n",
       "    .dataframe thead th {\n",
       "        text-align: right;\n",
       "    }\n",
       "</style>\n",
       "<table border=\"1\" class=\"dataframe\">\n",
       "  <thead>\n",
       "    <tr style=\"text-align: right;\">\n",
       "      <th></th>\n",
       "      <th>Pais</th>\n",
       "      <th>Medalla_Oro</th>\n",
       "      <th>Medalla_Plata</th>\n",
       "      <th>Medalla_Bronce</th>\n",
       "    </tr>\n",
       "  </thead>\n",
       "  <tbody>\n",
       "    <tr>\n",
       "      <th>0</th>\n",
       "      <td>USA</td>\n",
       "      <td>2235</td>\n",
       "      <td>1252</td>\n",
       "      <td>1098</td>\n",
       "    </tr>\n",
       "    <tr>\n",
       "      <th>1</th>\n",
       "      <td>URS</td>\n",
       "      <td>838</td>\n",
       "      <td>627</td>\n",
       "      <td>584</td>\n",
       "    </tr>\n",
       "    <tr>\n",
       "      <th>2</th>\n",
       "      <td>GBR</td>\n",
       "      <td>546</td>\n",
       "      <td>621</td>\n",
       "      <td>553</td>\n",
       "    </tr>\n",
       "    <tr>\n",
       "      <th>3</th>\n",
       "      <td>ITA</td>\n",
       "      <td>476</td>\n",
       "      <td>416</td>\n",
       "      <td>404</td>\n",
       "    </tr>\n",
       "    <tr>\n",
       "      <th>4</th>\n",
       "      <td>GER</td>\n",
       "      <td>452</td>\n",
       "      <td>378</td>\n",
       "      <td>475</td>\n",
       "    </tr>\n",
       "  </tbody>\n",
       "</table>\n",
       "</div>"
      ],
      "text/plain": [
       "  Pais  Medalla_Oro  Medalla_Plata  Medalla_Bronce\n",
       "0  USA         2235           1252            1098\n",
       "1  URS          838            627             584\n",
       "2  GBR          546            621             553\n",
       "3  ITA          476            416             404\n",
       "4  GER          452            378             475"
      ]
     },
     "execution_count": 6,
     "metadata": {},
     "output_type": "execute_result"
    }
   ],
   "source": [
    "df = pd.read_csv('medallas.csv', delimiter=';')\n",
    "muestra = df[:5]\n",
    "print(muestra)\n",
    "muestra"
   ]
  },
  {
   "cell_type": "markdown",
   "id": "fa0d583d",
   "metadata": {},
   "source": [
    "<span style=\"color:blue; font-size:15px\">\n",
    "   EJEMPLO 04: \n",
    "   <span style=\"color:purple; font-size:15px\">\n",
    "      CAMBIAR EL NOMBRE DE LAS COLUMNAS\n",
    "   </span>\n",
    "</span>"
   ]
  },
  {
   "cell_type": "code",
   "execution_count": 7,
   "id": "9877c762",
   "metadata": {},
   "outputs": [
    {
     "name": "stdout",
     "output_type": "stream",
     "text": [
      "  Pais   Oro  Plata  Bronce\n",
      "0  USA  2235   1252    1098\n",
      "1  URS   838    627     584\n",
      "2  GBR   546    621     553\n",
      "3  ITA   476    416     404\n",
      "4  GER   452    378     475\n",
      "5  HUN   412    316     351\n",
      "6  FRA   408    491     497\n",
      "7  SWE   349    367     328\n",
      "8  GDR   329    271     225\n",
      "9  AUS   312    405     472\n"
     ]
    },
    {
     "data": {
      "text/html": [
       "<div>\n",
       "<style scoped>\n",
       "    .dataframe tbody tr th:only-of-type {\n",
       "        vertical-align: middle;\n",
       "    }\n",
       "\n",
       "    .dataframe tbody tr th {\n",
       "        vertical-align: top;\n",
       "    }\n",
       "\n",
       "    .dataframe thead th {\n",
       "        text-align: right;\n",
       "    }\n",
       "</style>\n",
       "<table border=\"1\" class=\"dataframe\">\n",
       "  <thead>\n",
       "    <tr style=\"text-align: right;\">\n",
       "      <th></th>\n",
       "      <th>Pais</th>\n",
       "      <th>Oro</th>\n",
       "      <th>Plata</th>\n",
       "      <th>Bronce</th>\n",
       "    </tr>\n",
       "  </thead>\n",
       "  <tbody>\n",
       "    <tr>\n",
       "      <th>0</th>\n",
       "      <td>USA</td>\n",
       "      <td>2235</td>\n",
       "      <td>1252</td>\n",
       "      <td>1098</td>\n",
       "    </tr>\n",
       "    <tr>\n",
       "      <th>1</th>\n",
       "      <td>URS</td>\n",
       "      <td>838</td>\n",
       "      <td>627</td>\n",
       "      <td>584</td>\n",
       "    </tr>\n",
       "    <tr>\n",
       "      <th>2</th>\n",
       "      <td>GBR</td>\n",
       "      <td>546</td>\n",
       "      <td>621</td>\n",
       "      <td>553</td>\n",
       "    </tr>\n",
       "    <tr>\n",
       "      <th>3</th>\n",
       "      <td>ITA</td>\n",
       "      <td>476</td>\n",
       "      <td>416</td>\n",
       "      <td>404</td>\n",
       "    </tr>\n",
       "    <tr>\n",
       "      <th>4</th>\n",
       "      <td>GER</td>\n",
       "      <td>452</td>\n",
       "      <td>378</td>\n",
       "      <td>475</td>\n",
       "    </tr>\n",
       "    <tr>\n",
       "      <th>5</th>\n",
       "      <td>HUN</td>\n",
       "      <td>412</td>\n",
       "      <td>316</td>\n",
       "      <td>351</td>\n",
       "    </tr>\n",
       "    <tr>\n",
       "      <th>6</th>\n",
       "      <td>FRA</td>\n",
       "      <td>408</td>\n",
       "      <td>491</td>\n",
       "      <td>497</td>\n",
       "    </tr>\n",
       "    <tr>\n",
       "      <th>7</th>\n",
       "      <td>SWE</td>\n",
       "      <td>349</td>\n",
       "      <td>367</td>\n",
       "      <td>328</td>\n",
       "    </tr>\n",
       "    <tr>\n",
       "      <th>8</th>\n",
       "      <td>GDR</td>\n",
       "      <td>329</td>\n",
       "      <td>271</td>\n",
       "      <td>225</td>\n",
       "    </tr>\n",
       "    <tr>\n",
       "      <th>9</th>\n",
       "      <td>AUS</td>\n",
       "      <td>312</td>\n",
       "      <td>405</td>\n",
       "      <td>472</td>\n",
       "    </tr>\n",
       "  </tbody>\n",
       "</table>\n",
       "</div>"
      ],
      "text/plain": [
       "  Pais   Oro  Plata  Bronce\n",
       "0  USA  2235   1252    1098\n",
       "1  URS   838    627     584\n",
       "2  GBR   546    621     553\n",
       "3  ITA   476    416     404\n",
       "4  GER   452    378     475\n",
       "5  HUN   412    316     351\n",
       "6  FRA   408    491     497\n",
       "7  SWE   349    367     328\n",
       "8  GDR   329    271     225\n",
       "9  AUS   312    405     472"
      ]
     },
     "execution_count": 7,
     "metadata": {},
     "output_type": "execute_result"
    }
   ],
   "source": [
    "df = pd.read_csv('medallas.csv', delimiter=';', header=0, names=['Pais','Oro','Plata','Bronce'])\n",
    "print(df)\n",
    "df"
   ]
  },
  {
   "cell_type": "markdown",
   "id": "3079a370",
   "metadata": {},
   "source": [
    "<span style=\"color:blue; font-size:15px\">\n",
    "   EJEMPLO 05: \n",
    "   <span style=\"color:purple; font-size:15px\">\n",
    "      LIMITAR LA CANTIDAD DE COLUMNAS\n",
    "   </span>\n",
    "</span>"
   ]
  },
  {
   "cell_type": "code",
   "execution_count": 9,
   "id": "92aa17cf",
   "metadata": {},
   "outputs": [
    {
     "data": {
      "text/html": [
       "<div>\n",
       "<style scoped>\n",
       "    .dataframe tbody tr th:only-of-type {\n",
       "        vertical-align: middle;\n",
       "    }\n",
       "\n",
       "    .dataframe tbody tr th {\n",
       "        vertical-align: top;\n",
       "    }\n",
       "\n",
       "    .dataframe thead th {\n",
       "        text-align: right;\n",
       "    }\n",
       "</style>\n",
       "<table border=\"1\" class=\"dataframe\">\n",
       "  <thead>\n",
       "    <tr style=\"text-align: right;\">\n",
       "      <th></th>\n",
       "      <th>Medalla_Oro</th>\n",
       "      <th>Medalla_Bronce</th>\n",
       "    </tr>\n",
       "  </thead>\n",
       "  <tbody>\n",
       "    <tr>\n",
       "      <th>0</th>\n",
       "      <td>2235</td>\n",
       "      <td>1098</td>\n",
       "    </tr>\n",
       "    <tr>\n",
       "      <th>1</th>\n",
       "      <td>838</td>\n",
       "      <td>584</td>\n",
       "    </tr>\n",
       "    <tr>\n",
       "      <th>2</th>\n",
       "      <td>546</td>\n",
       "      <td>553</td>\n",
       "    </tr>\n",
       "    <tr>\n",
       "      <th>3</th>\n",
       "      <td>476</td>\n",
       "      <td>404</td>\n",
       "    </tr>\n",
       "    <tr>\n",
       "      <th>4</th>\n",
       "      <td>452</td>\n",
       "      <td>475</td>\n",
       "    </tr>\n",
       "    <tr>\n",
       "      <th>5</th>\n",
       "      <td>412</td>\n",
       "      <td>351</td>\n",
       "    </tr>\n",
       "    <tr>\n",
       "      <th>6</th>\n",
       "      <td>408</td>\n",
       "      <td>497</td>\n",
       "    </tr>\n",
       "    <tr>\n",
       "      <th>7</th>\n",
       "      <td>349</td>\n",
       "      <td>328</td>\n",
       "    </tr>\n",
       "    <tr>\n",
       "      <th>8</th>\n",
       "      <td>329</td>\n",
       "      <td>225</td>\n",
       "    </tr>\n",
       "    <tr>\n",
       "      <th>9</th>\n",
       "      <td>312</td>\n",
       "      <td>472</td>\n",
       "    </tr>\n",
       "  </tbody>\n",
       "</table>\n",
       "</div>"
      ],
      "text/plain": [
       "   Medalla_Oro  Medalla_Bronce\n",
       "0         2235            1098\n",
       "1          838             584\n",
       "2          546             553\n",
       "3          476             404\n",
       "4          452             475\n",
       "5          412             351\n",
       "6          408             497\n",
       "7          349             328\n",
       "8          329             225\n",
       "9          312             472"
      ]
     },
     "execution_count": 9,
     "metadata": {},
     "output_type": "execute_result"
    }
   ],
   "source": [
    "df = pd.read_csv('medallas.csv', delimiter=';', usecols=['Pais','Medalla_Oro'] )\n",
    "df"
   ]
  },
  {
   "cell_type": "markdown",
   "id": "64543714",
   "metadata": {},
   "source": [
    "<span style=\"color:blue; font-size:15px\">\n",
    "   EJEMPLO 06: \n",
    "   <span style=\"color:purple; font-size:15px\">\n",
    "      GRAFICO DE BARRAS VERTICAL Y HORIZONTAL\n",
    "   </span>\n",
    "</span>"
   ]
  },
  {
   "cell_type": "code",
   "execution_count": 13,
   "id": "a029fddb",
   "metadata": {},
   "outputs": [
    {
     "data": {
      "text/plain": [
       "<Axes: ylabel='Pais'>"
      ]
     },
     "execution_count": 13,
     "metadata": {},
     "output_type": "execute_result"
    },
    {
     "data": {
      "image/png": "[encoded data removed]",
      "text/plain": [
       "<Figure size 640x480 with 1 Axes>"
      ]
     },
     "metadata": {},
     "output_type": "display_data"
    },
    {
     "data": {
      "image/png": "[encoded data removed]",
      "text/plain": [
       "<Figure size 640x480 with 1 Axes>"
      ]
     },
     "metadata": {},
     "output_type": "display_data"
    }
   ],
   "source": [
    "df = pd.read_csv('medallas.csv', delimiter=';', index_col='Pais' )\n",
    "df\n",
    "\n",
    "df.plot(kind='bar') # Vertical\n",
    "df.plot(kind='barh') # Horizontal"
   ]
  },
  {
   "cell_type": "code",
   "execution_count": null,
   "id": "0a33a504",
   "metadata": {},
   "outputs": [],
   "source": [
    "<span style=\"color:blue; font-size:15px\">\n",
    "   EJEMPLO 07: \n",
    "   <span style=\"color:purple; font-size:15px\">\n",
    "      GRAFICO DE DISPERSION\n",
    "   </span>\n",
    "</span>"
   ]
  },
  {
   "cell_type": "code",
   "execution_count": 14,
   "id": "17fd268a",
   "metadata": {},
   "outputs": [
    {
     "data": {
      "image/png": "[encoded data removed]",
      "text/plain": [
       "<Figure size 640x480 with 1 Axes>"
      ]
     },
     "metadata": {},
     "output_type": "display_data"
    }
   ],
   "source": [
    "# Gráfico de dispersión entre medallas de oro y plata\n",
    "plt.scatter(df['Medalla_Oro'], df['Medalla_Plata'])\n",
    "plt.title('RELACION ENTRE MEDALLAS DE ORO Y PLATA')\n",
    "plt.xlabel('MEDALLAS DE ORO')\n",
    "plt.ylabel('MEDALLAS DE PLATA')\n",
    "plt.show()"
   ]
  },
  {
   "cell_type": "code",
   "execution_count": null,
   "id": "d3110f95",
   "metadata": {},
   "outputs": [],
   "source": []
  },
  {
   "cell_type": "code",
   "execution_count": null,
   "id": "60d613e3",
   "metadata": {},
   "outputs": [],
   "source": []
  },
  {
   "cell_type": "code",
   "execution_count": null,
   "id": "99a92153",
   "metadata": {},
   "outputs": [],
   "source": []
  }
 ],
 "metadata": {
  "kernelspec": {
   "display_name": "Python 3 (ipykernel)",
   "language": "python",
   "name": "python3"
  },
  "language_info": {
   "codemirror_mode": {
    "name": "ipython",
    "version": 3
   },
   "file_extension": ".py",
   "mimetype": "text/x-python",
   "name": "python",
   "nbconvert_exporter": "python",
   "pygments_lexer": "ipython3",
   "version": "3.11.5"
  }
 },
 "nbformat": 4,
 "nbformat_minor": 5
}
