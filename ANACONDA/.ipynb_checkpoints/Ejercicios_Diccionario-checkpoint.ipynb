{
 "cells": [
  {
   "cell_type": "markdown",
   "id": "326218ac",
   "metadata": {},
   "source": [
    "<center>\n",
    "   <span style=\"color:red; font-size:30px\">\n",
    "      EJERCICIOS DICCIONARIO\n",
    "   </span>\n",
    "</center>"
   ]
  },
  {
   "cell_type": "markdown",
   "id": "40432e0b",
   "metadata": {},
   "source": [
    "<span style=\"color:blue; font-size:15px\">\n",
    "   EJEMPLO 01: \n",
    "   <span style=\"color:purple; font-size:15px\">\n",
    "      CREAR UN DICCIONARIO CON LA SIGUIENTE ESTRUCTURA\n",
    "   </span>\n",
    "</span>"
   ]
  },
  {
   "cell_type": "code",
   "execution_count": null,
   "id": "10f48fb6",
   "metadata": {},
   "outputs": [],
   "source": [
    "'''\n",
    "      {\n",
    "        'idAlumno': 'A1',\n",
    "        'nombre': 'Miguel',\n",
    "        'direccion_dic': {\n",
    "                            'calle': 'Av. Ejercicio 123',\n",
    "                            'ciudad': 'Madrid',\n",
    "                            'pais': 'Pais',\n",
    "                            'codigoPostal': 28032\n",
    "                         },\n",
    "        'cursos_lst': ['Física','Química'],\n",
    "        'estatura': 1.72\n",
    "      }\n",
    "'''"
   ]
  }
 ],
 "metadata": {
  "kernelspec": {
   "display_name": "Python 3 (ipykernel)",
   "language": "python",
   "name": "python3"
  },
  "language_info": {
   "codemirror_mode": {
    "name": "ipython",
    "version": 3
   },
   "file_extension": ".py",
   "mimetype": "text/x-python",
   "name": "python",
   "nbconvert_exporter": "python",
   "pygments_lexer": "ipython3",
   "version": "3.11.5"
  }
 },
 "nbformat": 4,
 "nbformat_minor": 5
}
