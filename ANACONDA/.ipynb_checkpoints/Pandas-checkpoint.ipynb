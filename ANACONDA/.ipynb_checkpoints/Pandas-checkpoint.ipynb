{
 "cells": [
  {
   "cell_type": "markdown",
   "id": "e10480b9",
   "metadata": {},
   "source": [
    "<center><span style=\"color:red; font-size:30px\">CSV</span></center>"
   ]
  },
  {
   "cell_type": "markdown",
   "id": "35e81524",
   "metadata": {},
   "source": [
    "<span style=\"color:blue; font-size:15px\">FUENTE DE DATOS: <span style=\"color:purple; font-size:15px\">MEDALLAS.CSV</span></span>"
   ]
  },
  {
   "cell_type": "markdown",
   "id": "ef149930",
   "metadata": {},
   "source": [
    "PAIS;MEDALLA_ORO;MEDALLA_PLATA;MEDALLA_BRONCE\n",
    "USA;2235;1252;1098\n",
    "URS;838;627;584\n",
    "GBR;546;621;553\n",
    "ITA;476;416;404\n",
    "GER;452;378;475\n",
    "HUN;412;316;351\n",
    "FRA;408;491;497\n",
    "SWE;349;367;328\n",
    "GDR;329;271;225\n",
    "AUS;312;405;472"
   ]
  },
  {
   "cell_type": "markdown",
   "id": "7f21fd84",
   "metadata": {},
   "source": [
    "<span style=\"color:blue; font-size:15px\">CARGAR LIBRERIAS: <span style=\"color:purple; font-size:15px\">PANDAS-MATPLOTLIB</span></span>"
   ]
  },
  {
   "cell_type": "code",
   "execution_count": 2,
   "id": "b104c21f",
   "metadata": {},
   "outputs": [],
   "source": [
    "import pandas as pd\n",
    "import matplotlib.pyplot as plt"
   ]
  },
  {
   "cell_type": "markdown",
   "id": "de56b546",
   "metadata": {},
   "source": [
    "<span style=\"color:blue; font-size:15px\">EJEMPLO 01: <span style=\"color:purple\">LEER LO DATOS DE UN ARCHIVO CSV</span></span>"
   ]
  },
  {
   "cell_type": "code",
   "execution_count": 3,
   "id": "ce2701a2",
   "metadata": {},
   "outputs": [
    {
     "name": "stdout",
     "output_type": "stream",
     "text": [
      "  PAIS  MEDALLA_ORO  MEDALLA_PLATA  MEDALLA_BRONCE\n",
      "0  USA         2235           1252            1098\n",
      "1  URS          838            627             584\n",
      "2  GBR          546            621             553\n",
      "3  ITA          476            416             404\n",
      "4  GER          452            378             475\n",
      "5  HUN          412            316             351\n",
      "6  FRA          408            491             497\n",
      "7  SWE          349            367             328\n",
      "8  GDR          329            271             225\n",
      "9  AUS          312            405             472\n"
     ]
    },
    {
     "data": {
      "text/html": [
       "<div>\n",
       "<style scoped>\n",
       "    .dataframe tbody tr th:only-of-type {\n",
       "        vertical-align: middle;\n",
       "    }\n",
       "\n",
       "    .dataframe tbody tr th {\n",
       "        vertical-align: top;\n",
       "    }\n",
       "\n",
       "    .dataframe thead th {\n",
       "        text-align: right;\n",
       "    }\n",
       "</style>\n",
       "<table border=\"1\" class=\"dataframe\">\n",
       "  <thead>\n",
       "    <tr style=\"text-align: right;\">\n",
       "      <th></th>\n",
       "      <th>PAIS</th>\n",
       "      <th>MEDALLA_ORO</th>\n",
       "      <th>MEDALLA_PLATA</th>\n",
       "      <th>MEDALLA_BRONCE</th>\n",
       "    </tr>\n",
       "  </thead>\n",
       "  <tbody>\n",
       "    <tr>\n",
       "      <th>0</th>\n",
       "      <td>USA</td>\n",
       "      <td>2235</td>\n",
       "      <td>1252</td>\n",
       "      <td>1098</td>\n",
       "    </tr>\n",
       "    <tr>\n",
       "      <th>1</th>\n",
       "      <td>URS</td>\n",
       "      <td>838</td>\n",
       "      <td>627</td>\n",
       "      <td>584</td>\n",
       "    </tr>\n",
       "    <tr>\n",
       "      <th>2</th>\n",
       "      <td>GBR</td>\n",
       "      <td>546</td>\n",
       "      <td>621</td>\n",
       "      <td>553</td>\n",
       "    </tr>\n",
       "    <tr>\n",
       "      <th>3</th>\n",
       "      <td>ITA</td>\n",
       "      <td>476</td>\n",
       "      <td>416</td>\n",
       "      <td>404</td>\n",
       "    </tr>\n",
       "    <tr>\n",
       "      <th>4</th>\n",
       "      <td>GER</td>\n",
       "      <td>452</td>\n",
       "      <td>378</td>\n",
       "      <td>475</td>\n",
       "    </tr>\n",
       "    <tr>\n",
       "      <th>5</th>\n",
       "      <td>HUN</td>\n",
       "      <td>412</td>\n",
       "      <td>316</td>\n",
       "      <td>351</td>\n",
       "    </tr>\n",
       "    <tr>\n",
       "      <th>6</th>\n",
       "      <td>FRA</td>\n",
       "      <td>408</td>\n",
       "      <td>491</td>\n",
       "      <td>497</td>\n",
       "    </tr>\n",
       "    <tr>\n",
       "      <th>7</th>\n",
       "      <td>SWE</td>\n",
       "      <td>349</td>\n",
       "      <td>367</td>\n",
       "      <td>328</td>\n",
       "    </tr>\n",
       "    <tr>\n",
       "      <th>8</th>\n",
       "      <td>GDR</td>\n",
       "      <td>329</td>\n",
       "      <td>271</td>\n",
       "      <td>225</td>\n",
       "    </tr>\n",
       "    <tr>\n",
       "      <th>9</th>\n",
       "      <td>AUS</td>\n",
       "      <td>312</td>\n",
       "      <td>405</td>\n",
       "      <td>472</td>\n",
       "    </tr>\n",
       "  </tbody>\n",
       "</table>\n",
       "</div>"
      ],
      "text/plain": [
       "  PAIS  MEDALLA_ORO  MEDALLA_PLATA  MEDALLA_BRONCE\n",
       "0  USA         2235           1252            1098\n",
       "1  URS          838            627             584\n",
       "2  GBR          546            621             553\n",
       "3  ITA          476            416             404\n",
       "4  GER          452            378             475\n",
       "5  HUN          412            316             351\n",
       "6  FRA          408            491             497\n",
       "7  SWE          349            367             328\n",
       "8  GDR          329            271             225\n",
       "9  AUS          312            405             472"
      ]
     },
     "execution_count": 3,
     "metadata": {},
     "output_type": "execute_result"
    }
   ],
   "source": [
    "df = pd.read_csv('medallas.csv', delimiter=';')\n",
    "print(df)\n",
    "df"
   ]
  },
  {
   "cell_type": "markdown",
   "id": "390e843b",
   "metadata": {},
   "source": [
    "<span style=\"color:blue; font-size:15px\">EJEMPLO 02: <span style=\"color:purple; font-size:15px\">LEER UN ARCHIVO CSV LIMITANDO LA CANTIDAD DE FILAS</span></span>"
   ]
  },
  {
   "cell_type": "code",
   "execution_count": null,
   "id": "82b98974",
   "metadata": {},
   "outputs": [],
   "source": [
    "df = pd.read_csv('medallas.csv', delimiter=';')\n",
    "muestra = df[:5]\n",
    "print(muestra)\n",
    "muestra"
   ]
  },
  {
   "cell_type": "markdown",
   "id": "e9073002",
   "metadata": {},
   "source": [
    "<span style=\"color:blue; font-size:15px\">EJEMPLO 03: <span style=\"color:purple; font-size:15px\">MOSTRAR LA PRIMERA COLUMNA COMO CLAVE PRIMARIA</span></span>"
   ]
  },
  {
   "cell_type": "code",
   "execution_count": null,
   "id": "7658c9ee",
   "metadata": {},
   "outputs": [],
   "source": [
    "df = pd.read_csv('medallas.csv', delimiter=';', index_col=['MedallasBronce'])\n",
    "print(df)\n",
    "df"
   ]
  },
  {
   "cell_type": "markdown",
   "id": "d1b620c0",
   "metadata": {},
   "source": [
    "<span style=\"color:blue; font-size:15px\">EJEMPLO 04: <span style=\"color:purple; font-size:15px\">MOSTRAR LOS DATOS A PARTIR DE UNA FILA DETERMINADA</span></span>"
   ]
  },
  {
   "cell_type": "code",
   "execution_count": null,
   "id": "2b9ef5b0",
   "metadata": {},
   "outputs": [],
   "source": [
    "df = pd.read_csv('medallas.csv', delimiter=';', header=6) # Muestra a partir de la fila 6 hacia abajo\n",
    "print(df)\n",
    "df"
   ]
  },
  {
   "cell_type": "markdown",
   "id": "b965dfdb",
   "metadata": {},
   "source": [
    "<span style=\"color:blue; font-size:15px\">EJEMPLO 05: <span style=\"color:purple; font-size:15px\">CAMBIAR EL NOMBRE DE LAS COLUMNAS</span></span>"
   ]
  },
  {
   "cell_type": "code",
   "execution_count": null,
   "id": "ec74e48f",
   "metadata": {},
   "outputs": [],
   "source": [
    "df = pd.read_csv('medallas.csv', delimiter=';', header=0, names=['Pais','Oro','Plata','Bronce'])\n",
    "# print(df)\n",
    "df"
   ]
  },
  {
   "cell_type": "markdown",
   "id": "0f73a830",
   "metadata": {},
   "source": [
    "<span style=\"color:blue; font-size:15px\">EJEMPLO 06: <span style=\"color:purple; font-size:15px\">MOSTRAR SOLO ALGUNAS COLUMNAS</span></span>"
   ]
  },
  {
   "cell_type": "code",
   "execution_count": null,
   "id": "7c9b6a02",
   "metadata": {},
   "outputs": [],
   "source": [
    "df = pd.read_csv('medallas.csv', delimiter=';', usecols=['Pais','MedallasOro'] )\n",
    "muestra = df[:5]\n",
    "muestra"
   ]
  },
  {
   "cell_type": "markdown",
   "id": "a3d7d421",
   "metadata": {},
   "source": [
    "<span style=\"color:blue; font-size:15px\">EJEMPLO 07: <span style=\"color:purple; font-size:15px\">GRAFICO DE BARRAS VERTICAL</span></span>"
   ]
  },
  {
   "cell_type": "code",
   "execution_count": 3,
   "id": "bd4991df",
   "metadata": {},
   "outputs": [
    {
     "ename": "FileNotFoundError",
     "evalue": "[Errno 2] No such file or directory: 'medallas.csv'",
     "output_type": "error",
     "traceback": [
      "\u001b[1;31m---------------------------------------------------------------------------\u001b[0m",
      "\u001b[1;31mFileNotFoundError\u001b[0m                         Traceback (most recent call last)",
      "Cell \u001b[1;32mIn[3], line 1\u001b[0m\n\u001b[1;32m----> 1\u001b[0m df \u001b[38;5;241m=\u001b[39m pd\u001b[38;5;241m.\u001b[39mread_csv(\u001b[38;5;124m'\u001b[39m\u001b[38;5;124mmedallas.csv\u001b[39m\u001b[38;5;124m'\u001b[39m, delimiter\u001b[38;5;241m=\u001b[39m\u001b[38;5;124m'\u001b[39m\u001b[38;5;124m;\u001b[39m\u001b[38;5;124m'\u001b[39m, index_col\u001b[38;5;241m=\u001b[39m\u001b[38;5;124m'\u001b[39m\u001b[38;5;124mPais\u001b[39m\u001b[38;5;124m'\u001b[39m )\n\u001b[0;32m      2\u001b[0m df\n\u001b[0;32m      3\u001b[0m df\u001b[38;5;241m.\u001b[39mplot(kind\u001b[38;5;241m=\u001b[39m\u001b[38;5;124m'\u001b[39m\u001b[38;5;124mbar\u001b[39m\u001b[38;5;124m'\u001b[39m)\n",
      "File \u001b[1;32m~\\anaconda3\\Lib\\site-packages\\pandas\\io\\parsers\\readers.py:912\u001b[0m, in \u001b[0;36mread_csv\u001b[1;34m(filepath_or_buffer, sep, delimiter, header, names, index_col, usecols, dtype, engine, converters, true_values, false_values, skipinitialspace, skiprows, skipfooter, nrows, na_values, keep_default_na, na_filter, verbose, skip_blank_lines, parse_dates, infer_datetime_format, keep_date_col, date_parser, date_format, dayfirst, cache_dates, iterator, chunksize, compression, thousands, decimal, lineterminator, quotechar, quoting, doublequote, escapechar, comment, encoding, encoding_errors, dialect, on_bad_lines, delim_whitespace, low_memory, memory_map, float_precision, storage_options, dtype_backend)\u001b[0m\n\u001b[0;32m    899\u001b[0m kwds_defaults \u001b[38;5;241m=\u001b[39m _refine_defaults_read(\n\u001b[0;32m    900\u001b[0m     dialect,\n\u001b[0;32m    901\u001b[0m     delimiter,\n\u001b[1;32m   (...)\u001b[0m\n\u001b[0;32m    908\u001b[0m     dtype_backend\u001b[38;5;241m=\u001b[39mdtype_backend,\n\u001b[0;32m    909\u001b[0m )\n\u001b[0;32m    910\u001b[0m kwds\u001b[38;5;241m.\u001b[39mupdate(kwds_defaults)\n\u001b[1;32m--> 912\u001b[0m \u001b[38;5;28;01mreturn\u001b[39;00m _read(filepath_or_buffer, kwds)\n",
      "File \u001b[1;32m~\\anaconda3\\Lib\\site-packages\\pandas\\io\\parsers\\readers.py:577\u001b[0m, in \u001b[0;36m_read\u001b[1;34m(filepath_or_buffer, kwds)\u001b[0m\n\u001b[0;32m    574\u001b[0m _validate_names(kwds\u001b[38;5;241m.\u001b[39mget(\u001b[38;5;124m\"\u001b[39m\u001b[38;5;124mnames\u001b[39m\u001b[38;5;124m\"\u001b[39m, \u001b[38;5;28;01mNone\u001b[39;00m))\n\u001b[0;32m    576\u001b[0m \u001b[38;5;66;03m# Create the parser.\u001b[39;00m\n\u001b[1;32m--> 577\u001b[0m parser \u001b[38;5;241m=\u001b[39m TextFileReader(filepath_or_buffer, \u001b[38;5;241m*\u001b[39m\u001b[38;5;241m*\u001b[39mkwds)\n\u001b[0;32m    579\u001b[0m \u001b[38;5;28;01mif\u001b[39;00m chunksize \u001b[38;5;129;01mor\u001b[39;00m iterator:\n\u001b[0;32m    580\u001b[0m     \u001b[38;5;28;01mreturn\u001b[39;00m parser\n",
      "File \u001b[1;32m~\\anaconda3\\Lib\\site-packages\\pandas\\io\\parsers\\readers.py:1407\u001b[0m, in \u001b[0;36mTextFileReader.__init__\u001b[1;34m(self, f, engine, **kwds)\u001b[0m\n\u001b[0;32m   1404\u001b[0m     \u001b[38;5;28mself\u001b[39m\u001b[38;5;241m.\u001b[39moptions[\u001b[38;5;124m\"\u001b[39m\u001b[38;5;124mhas_index_names\u001b[39m\u001b[38;5;124m\"\u001b[39m] \u001b[38;5;241m=\u001b[39m kwds[\u001b[38;5;124m\"\u001b[39m\u001b[38;5;124mhas_index_names\u001b[39m\u001b[38;5;124m\"\u001b[39m]\n\u001b[0;32m   1406\u001b[0m \u001b[38;5;28mself\u001b[39m\u001b[38;5;241m.\u001b[39mhandles: IOHandles \u001b[38;5;241m|\u001b[39m \u001b[38;5;28;01mNone\u001b[39;00m \u001b[38;5;241m=\u001b[39m \u001b[38;5;28;01mNone\u001b[39;00m\n\u001b[1;32m-> 1407\u001b[0m \u001b[38;5;28mself\u001b[39m\u001b[38;5;241m.\u001b[39m_engine \u001b[38;5;241m=\u001b[39m \u001b[38;5;28mself\u001b[39m\u001b[38;5;241m.\u001b[39m_make_engine(f, \u001b[38;5;28mself\u001b[39m\u001b[38;5;241m.\u001b[39mengine)\n",
      "File \u001b[1;32m~\\anaconda3\\Lib\\site-packages\\pandas\\io\\parsers\\readers.py:1661\u001b[0m, in \u001b[0;36mTextFileReader._make_engine\u001b[1;34m(self, f, engine)\u001b[0m\n\u001b[0;32m   1659\u001b[0m     \u001b[38;5;28;01mif\u001b[39;00m \u001b[38;5;124m\"\u001b[39m\u001b[38;5;124mb\u001b[39m\u001b[38;5;124m\"\u001b[39m \u001b[38;5;129;01mnot\u001b[39;00m \u001b[38;5;129;01min\u001b[39;00m mode:\n\u001b[0;32m   1660\u001b[0m         mode \u001b[38;5;241m+\u001b[39m\u001b[38;5;241m=\u001b[39m \u001b[38;5;124m\"\u001b[39m\u001b[38;5;124mb\u001b[39m\u001b[38;5;124m\"\u001b[39m\n\u001b[1;32m-> 1661\u001b[0m \u001b[38;5;28mself\u001b[39m\u001b[38;5;241m.\u001b[39mhandles \u001b[38;5;241m=\u001b[39m get_handle(\n\u001b[0;32m   1662\u001b[0m     f,\n\u001b[0;32m   1663\u001b[0m     mode,\n\u001b[0;32m   1664\u001b[0m     encoding\u001b[38;5;241m=\u001b[39m\u001b[38;5;28mself\u001b[39m\u001b[38;5;241m.\u001b[39moptions\u001b[38;5;241m.\u001b[39mget(\u001b[38;5;124m\"\u001b[39m\u001b[38;5;124mencoding\u001b[39m\u001b[38;5;124m\"\u001b[39m, \u001b[38;5;28;01mNone\u001b[39;00m),\n\u001b[0;32m   1665\u001b[0m     compression\u001b[38;5;241m=\u001b[39m\u001b[38;5;28mself\u001b[39m\u001b[38;5;241m.\u001b[39moptions\u001b[38;5;241m.\u001b[39mget(\u001b[38;5;124m\"\u001b[39m\u001b[38;5;124mcompression\u001b[39m\u001b[38;5;124m\"\u001b[39m, \u001b[38;5;28;01mNone\u001b[39;00m),\n\u001b[0;32m   1666\u001b[0m     memory_map\u001b[38;5;241m=\u001b[39m\u001b[38;5;28mself\u001b[39m\u001b[38;5;241m.\u001b[39moptions\u001b[38;5;241m.\u001b[39mget(\u001b[38;5;124m\"\u001b[39m\u001b[38;5;124mmemory_map\u001b[39m\u001b[38;5;124m\"\u001b[39m, \u001b[38;5;28;01mFalse\u001b[39;00m),\n\u001b[0;32m   1667\u001b[0m     is_text\u001b[38;5;241m=\u001b[39mis_text,\n\u001b[0;32m   1668\u001b[0m     errors\u001b[38;5;241m=\u001b[39m\u001b[38;5;28mself\u001b[39m\u001b[38;5;241m.\u001b[39moptions\u001b[38;5;241m.\u001b[39mget(\u001b[38;5;124m\"\u001b[39m\u001b[38;5;124mencoding_errors\u001b[39m\u001b[38;5;124m\"\u001b[39m, \u001b[38;5;124m\"\u001b[39m\u001b[38;5;124mstrict\u001b[39m\u001b[38;5;124m\"\u001b[39m),\n\u001b[0;32m   1669\u001b[0m     storage_options\u001b[38;5;241m=\u001b[39m\u001b[38;5;28mself\u001b[39m\u001b[38;5;241m.\u001b[39moptions\u001b[38;5;241m.\u001b[39mget(\u001b[38;5;124m\"\u001b[39m\u001b[38;5;124mstorage_options\u001b[39m\u001b[38;5;124m\"\u001b[39m, \u001b[38;5;28;01mNone\u001b[39;00m),\n\u001b[0;32m   1670\u001b[0m )\n\u001b[0;32m   1671\u001b[0m \u001b[38;5;28;01massert\u001b[39;00m \u001b[38;5;28mself\u001b[39m\u001b[38;5;241m.\u001b[39mhandles \u001b[38;5;129;01mis\u001b[39;00m \u001b[38;5;129;01mnot\u001b[39;00m \u001b[38;5;28;01mNone\u001b[39;00m\n\u001b[0;32m   1672\u001b[0m f \u001b[38;5;241m=\u001b[39m \u001b[38;5;28mself\u001b[39m\u001b[38;5;241m.\u001b[39mhandles\u001b[38;5;241m.\u001b[39mhandle\n",
      "File \u001b[1;32m~\\anaconda3\\Lib\\site-packages\\pandas\\io\\common.py:859\u001b[0m, in \u001b[0;36mget_handle\u001b[1;34m(path_or_buf, mode, encoding, compression, memory_map, is_text, errors, storage_options)\u001b[0m\n\u001b[0;32m    854\u001b[0m \u001b[38;5;28;01melif\u001b[39;00m \u001b[38;5;28misinstance\u001b[39m(handle, \u001b[38;5;28mstr\u001b[39m):\n\u001b[0;32m    855\u001b[0m     \u001b[38;5;66;03m# Check whether the filename is to be opened in binary mode.\u001b[39;00m\n\u001b[0;32m    856\u001b[0m     \u001b[38;5;66;03m# Binary mode does not support 'encoding' and 'newline'.\u001b[39;00m\n\u001b[0;32m    857\u001b[0m     \u001b[38;5;28;01mif\u001b[39;00m ioargs\u001b[38;5;241m.\u001b[39mencoding \u001b[38;5;129;01mand\u001b[39;00m \u001b[38;5;124m\"\u001b[39m\u001b[38;5;124mb\u001b[39m\u001b[38;5;124m\"\u001b[39m \u001b[38;5;129;01mnot\u001b[39;00m \u001b[38;5;129;01min\u001b[39;00m ioargs\u001b[38;5;241m.\u001b[39mmode:\n\u001b[0;32m    858\u001b[0m         \u001b[38;5;66;03m# Encoding\u001b[39;00m\n\u001b[1;32m--> 859\u001b[0m         handle \u001b[38;5;241m=\u001b[39m \u001b[38;5;28mopen\u001b[39m(\n\u001b[0;32m    860\u001b[0m             handle,\n\u001b[0;32m    861\u001b[0m             ioargs\u001b[38;5;241m.\u001b[39mmode,\n\u001b[0;32m    862\u001b[0m             encoding\u001b[38;5;241m=\u001b[39mioargs\u001b[38;5;241m.\u001b[39mencoding,\n\u001b[0;32m    863\u001b[0m             errors\u001b[38;5;241m=\u001b[39merrors,\n\u001b[0;32m    864\u001b[0m             newline\u001b[38;5;241m=\u001b[39m\u001b[38;5;124m\"\u001b[39m\u001b[38;5;124m\"\u001b[39m,\n\u001b[0;32m    865\u001b[0m         )\n\u001b[0;32m    866\u001b[0m     \u001b[38;5;28;01melse\u001b[39;00m:\n\u001b[0;32m    867\u001b[0m         \u001b[38;5;66;03m# Binary mode\u001b[39;00m\n\u001b[0;32m    868\u001b[0m         handle \u001b[38;5;241m=\u001b[39m \u001b[38;5;28mopen\u001b[39m(handle, ioargs\u001b[38;5;241m.\u001b[39mmode)\n",
      "\u001b[1;31mFileNotFoundError\u001b[0m: [Errno 2] No such file or directory: 'medallas.csv'"
     ]
    }
   ],
   "source": [
    "df = pd.read_csv('medallas.csv', delimiter=';', index_col='Pais' )\n",
    "df\n",
    "df.plot(kind='bar')"
   ]
  },
  {
   "cell_type": "markdown",
   "id": "2fc5aba8",
   "metadata": {},
   "source": [
    "<span style=\"color:blue; font-size:15px\">EJEMPLO 08: <span style=\"color:purple; font-size:15px\">GRAFICO DE BARRAS HORIZONTAL</span></span>"
   ]
  },
  {
   "cell_type": "code",
   "execution_count": null,
   "id": "a7bbaf9c",
   "metadata": {},
   "outputs": [],
   "source": [
    "import matplotlib.pyplot as plt\n",
    "df = pd.read_csv('medallas.csv', delimiter=';', index_col='Pais' )\n",
    "df\n",
    "df.plot(kind='barh')"
   ]
  },
  {
   "cell_type": "markdown",
   "id": "12998927",
   "metadata": {},
   "source": [
    "<span style=\"color:blue; font-size:15px\">EJEMPLO 09: <span style=\"color:purple; font-size:15px\">GRAFICO DE BARRAS VERTICAL MODIFICAR EL ANCHO</span></span>"
   ]
  },
  {
   "cell_type": "code",
   "execution_count": null,
   "id": "9228bb94",
   "metadata": {},
   "outputs": [],
   "source": [
    "df = pd.read_csv('medallas.csv', delimiter=';', index_col='Pais' )\n",
    "df\n",
    "df.plot(kind='bar', width=0.9)"
   ]
  },
  {
   "cell_type": "markdown",
   "id": "f211e0c3",
   "metadata": {},
   "source": [
    "<span style=\"color:blue; font-size:15px\">EJEMPLO 10: <span style=\"color:purple; font-size:15px\">MOSTRAR LOS DATOS EN UNA SOLA BARRA APILADA</span></span>"
   ]
  },
  {
   "cell_type": "code",
   "execution_count": null,
   "id": "5befb1de",
   "metadata": {
    "scrolled": false
   },
   "outputs": [],
   "source": [
    "df = pd.read_csv('medallas.csv', delimiter=';', index_col='Pais' )\n",
    "df\n",
    "df.plot(kind='bar', \n",
    "        stacked = 'True',  # Barra apilada\n",
    "        #subplots=True,\n",
    "        figsize=(10,10),\n",
    "        width=0.9)"
   ]
  },
  {
   "cell_type": "markdown",
   "id": "975c66f6",
   "metadata": {},
   "source": [
    "<span style=\"color:blue; font-size:15px\">EJEMPLO 11: <span style=\"color:purple; font-size:15px\">MOSTRAR TONALIDADES DE COLOR</span></span>"
   ]
  },
  {
   "cell_type": "code",
   "execution_count": null,
   "id": "f3036822",
   "metadata": {},
   "outputs": [],
   "source": [
    "colores_l = ['#F3FF33','#A1A298','#F37D15']\n",
    "df = pd.read_csv('medallas.csv', delimiter=';', index_col='Pais' )\n",
    "df\n",
    "df.plot(kind='bar', \n",
    "        stacked = 'True',  # Barra apilada\n",
    "        #subplots=True, # Mostrar cada columna en una grafica distinta\n",
    "        figsize=(10,10),\n",
    "        width=0.9,\n",
    "        alpha = 0.8,\n",
    "        color = colores_l)"
   ]
  },
  {
   "cell_type": "markdown",
   "id": "3609e49b",
   "metadata": {},
   "source": [
    "<span style=\"color:blue; font-size:15px\">BIBLIOGRAFIA</span>"
   ]
  },
  {
   "cell_type": "markdown",
   "id": "e3c069cd",
   "metadata": {},
   "source": [
    "https://www.machinelearningplus.com/pandas/pandas-read_csv-completed<br>\n",
    "https://pandas.pydata.org/pandas-docs/stable/reference/api/pandas.read_csv.html"
   ]
  },
  {
   "cell_type": "markdown",
   "id": "d569be57",
   "metadata": {},
   "source": [
    "<span style=\"color:blue; font-size:15px\">ANEXO</span>"
   ]
  },
  {
   "cell_type": "code",
   "execution_count": null,
   "id": "2294ee84",
   "metadata": {},
   "outputs": [],
   "source": [
    "pwd"
   ]
  }
 ],
 "metadata": {
  "kernelspec": {
   "display_name": "Python 3 (ipykernel)",
   "language": "python",
   "name": "python3"
  },
  "language_info": {
   "codemirror_mode": {
    "name": "ipython",
    "version": 3
   },
   "file_extension": ".py",
   "mimetype": "text/x-python",
   "name": "python",
   "nbconvert_exporter": "python",
   "pygments_lexer": "ipython3",
   "version": "3.11.5"
  }
 },
 "nbformat": 4,
 "nbformat_minor": 5
}
