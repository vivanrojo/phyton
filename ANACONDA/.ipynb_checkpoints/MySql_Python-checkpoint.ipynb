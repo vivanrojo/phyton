{
 "cells": [
  {
   "cell_type": "markdown",
   "id": "85c85f40",
   "metadata": {},
   "source": [
    "<center>\n",
    "   <span style=\"color:red; font-size:30px\">\n",
    "      MYSQL\n",
    "   </span>\n",
    "</center>"
   ]
  },
  {
   "cell_type": "markdown",
   "id": "953ca808",
   "metadata": {},
   "source": [
    "<div class=text-justify>\n",
    "MySQL es un sistema de gestión de bases de datos relacionales (RDBMS, por sus siglas en inglés) de código abierto. Es uno de los sistemas de bases de datos más populares en el mundo, ampliamente utilizado en aplicaciones web y empresariales debido a su rendimiento, confiabilidad y facilidad de uso.\n",
    "</div>\n",
    "<br>\n",
    "<div class=text-justify>\n",
    "Desarrollado originalmente por MySQL AB (ahora parte de Oracle Corporation), MySQL utiliza el lenguaje de consulta estructurado (SQL) para administrar y manipular datos almacenados en tablas relacionales. Ofrece soporte para una variedad de sistemas operativos, incluidos Linux, Windows, macOS, entre otros, y es compatible con una amplia gama de lenguajes de programación y entornos de desarrollo.\n",
    "</div>\n",
    "<br>\n",
    "<div class=text-justify>\n",
    "MySQL es conocido por ser rápido, escalable y altamente confiable. Además, cuenta con una comunidad activa de desarrolladores y una amplia documentación, lo que lo convierte en una opción popular tanto para pequeñas aplicaciones como para grandes sistemas empresariales.\n",
    "</div>"
   ]
  },
  {
   "cell_type": "markdown",
   "id": "99f9c16b",
   "metadata": {},
   "source": [
    "<span style=\"color:blue; font-size:15px\">\n",
    "   INSTALAR MODULO: \n",
    "   <span style=\"color:purple; font-size:15px\">\n",
    "      MYSQL.CONNECTOR\n",
    "   </span>\n",
    "</span>"
   ]
  },
  {
   "cell_type": "code",
   "execution_count": null,
   "id": "6a903789",
   "metadata": {},
   "outputs": [],
   "source": [
    "!pip install mysql-connector-python"
   ]
  },
  {
   "cell_type": "markdown",
   "id": "eadfce93",
   "metadata": {},
   "source": [
    "<span style=\"color:blue; font-size:15px\">\n",
    "   CARGAR LIBRERIA: \n",
    "   <span style=\"color:purple; font-size:15px\">\n",
    "      MYSQL.CONNECTOR\n",
    "   </span>\n",
    "</span>"
   ]
  },
  {
   "cell_type": "code",
   "execution_count": 1,
   "id": "b6bd13bc",
   "metadata": {},
   "outputs": [],
   "source": [
    "import mysql.connector\n",
    "from datetime import datetime\n",
    "import json\n",
    "import csv"
   ]
  },
  {
   "cell_type": "markdown",
   "id": "ecb9be12",
   "metadata": {},
   "source": [
    "<span style=\"color:blue; font-size:15px\">\n",
    "   EJEMPLO 01: \n",
    "   <span style=\"color:purple; font-size:15px\">\n",
    "      CREAR UNA CONEXION A UNA BASE DE DATOS MYSQL\n",
    "   </span>\n",
    "</span>"
   ]
  },
  {
   "cell_type": "code",
   "execution_count": null,
   "id": "95e957fb",
   "metadata": {},
   "outputs": [],
   "source": [
    "conexion = None\n",
    "try:\n",
    "    conexion = mysql.connector.connect(\n",
    "         host=\"localhost\",\n",
    "         port=\"3306\",\n",
    "         user=\"root\",\n",
    "         password=\"12345678\",\n",
    "         database=\"salud\")\n",
    "except:\n",
    "    conexion = None\n",
    "    \n",
    "if conexion != None:\n",
    "   print('OK: CONEXION')\n",
    "else:\n",
    "   print('ERROR: CONEXION')   "
   ]
  },
  {
   "cell_type": "markdown",
   "id": "53dc6311",
   "metadata": {},
   "source": [
    "<span style=\"color:blue; font-size:15px\">\n",
    "   EJEMPLO 02: \n",
    "   <span style=\"color:purple; font-size:15px\">\n",
    "      MOSTRAR TODOS LOS REGISTROS DE LA TABLA CONSULTA\n",
    "   </span>\n",
    "</span>"
   ]
  },
  {
   "cell_type": "code",
   "execution_count": null,
   "id": "53d3960f",
   "metadata": {},
   "outputs": [],
   "source": [
    "conexion = None\n",
    "try:\n",
    "    conexion = mysql.connector.connect(\n",
    "         host=\"localhost\",\n",
    "         port=\"3306\",\n",
    "         user=\"root\",\n",
    "         password=\"12345678\",\n",
    "         database=\"salud\")\n",
    "except:\n",
    "    conexion = None\n",
    "    \n",
    "if conexion != None:\n",
    "   print('OK: CONEXION')\n",
    "   query = 'SELECT * FROM Consulta'  # Crear la query\n",
    "   cursor = conexion.cursor()        # Crear el cursor. Es el que ejecuta las query\n",
    "   cursor.execute(query)             # Ejecutar la query. El resultado se guarda en el cursor\n",
    "   resultado = cursor.fetchall()  \n",
    "   print(resultado)\n",
    "   print('OK: SELECT')\n",
    "else:\n",
    "   print('ERROR: CONEXION')   "
   ]
  },
  {
   "cell_type": "markdown",
   "id": "5399b50b",
   "metadata": {},
   "source": [
    "<span style=\"color:blue; font-size:15px\">\n",
    "   EJEMPLO 03: \n",
    "   <span style=\"color:purple; font-size:15px\">\n",
    "      FORMATEAR RESULTADO\n",
    "   </span>\n",
    "</span>"
   ]
  },
  {
   "cell_type": "code",
   "execution_count": null,
   "id": "54eb6469",
   "metadata": {},
   "outputs": [],
   "source": [
    "def formatear(tupla):\n",
    "    print('%5s %-12s %-40s %-10s %-10s' % (tupla[0],tupla[1],tupla[2],tupla[3],tupla[4]))\n",
    "    \n",
    "\n",
    "conexion = None\n",
    "try:\n",
    "    conexion = mysql.connector.connect(\n",
    "         host=\"localhost\",\n",
    "         port=\"3306\",\n",
    "         user=\"root\",\n",
    "         password=\"12345678\",\n",
    "         database=\"salud\")\n",
    "except:\n",
    "    conexion = None\n",
    "    \n",
    "if conexion != None:\n",
    "   print('OK: CONEXION')\n",
    "   query = 'SELECT * FROM Consulta'      # Crear la query\n",
    "   cursor = conexion.cursor()            # Crear el cursor. Es el que ejecuta las query\n",
    "   cursor.execute(query)                 # Ejecutar la query. El resultado se guarda en el cursor\n",
    "   resultado_lst_tup = cursor.fetchall() # Recupear los datos del cursor\n",
    "   for resultado_tup in resultado_lst_tup:\n",
    "       formatear(resultado_tup)\n",
    "   print('OK: SELECT')\n",
    "else:\n",
    "   print('ERROR: CONEXION')   "
   ]
  },
  {
   "cell_type": "markdown",
   "id": "43498fe1",
   "metadata": {},
   "source": [
    "<span style=\"color:blue; font-size:15px\">\n",
    "   EJEMPLO 04: \n",
    "   <span style=\"color:purple; font-size:15px\">\n",
    "      CREAR UN ARCHIVO JSON DE LA TABLA CONSULTA EN SQL\n",
    "   </span>\n",
    "</span>"
   ]
  },
  {
   "cell_type": "code",
   "execution_count": null,
   "id": "a8b462a4",
   "metadata": {},
   "outputs": [],
   "source": [
    "conexion = None\n",
    "try:\n",
    "    conexion = mysql.connector.connect(\n",
    "         host=\"localhost\",\n",
    "         port=\"3306\",\n",
    "         user=\"root\",\n",
    "         password=\"12345678\",\n",
    "         database=\"salud\")\n",
    "except:\n",
    "    conexion = None\n",
    "    \n",
    "if conexion != None:\n",
    "   filas_lst_dic = []\n",
    "   print('OK: CONEXION')\n",
    "   query = 'SELECT * FROM Consulta'      # Crear la query\n",
    "   cursor = conexion.cursor()            # Crear el cursor. Es el que ejecuta las query\n",
    "   cursor.execute(query)                 # Ejecutar la query. El resultado se guarda en el cursor\n",
    "   resultado_lst_tup = cursor.fetchall() # Recupear los datos del cursor\n",
    "\n",
    "   for resultado_tup in resultado_lst_tup:\n",
    "       diccionario = {\n",
    "          'numeroConsulta': int(resultado_tup[0]),\n",
    "          'fecha': str(resultado_tup[1]),\n",
    "          'nombreMedico': resultado_tup[2],\n",
    "          'deinpr': resultado_tup[3],\n",
    "          'procedencia': resultado_tup[4]\n",
    "       }\n",
    "       filas_lst_dic.append(diccionario)\n",
    "   \n",
    "   with open('consulta.json', 'w') as f:\n",
    "         json.dump(filas_lst_dic, f, indent=4) \n",
    "         print('OK: ESCRITURA')\n",
    "        \n",
    "   print('OK: SELECT')\n",
    "else:\n",
    "   print('ERROR: CONEXION')   "
   ]
  },
  {
   "cell_type": "markdown",
   "id": "4d42b867",
   "metadata": {},
   "source": [
    "<span style=\"color:blue; font-size:15px\">\n",
    "   EJEMPLO 05: \n",
    "   <span style=\"color:purple; font-size:15px\">\n",
    "      CREAR UN ARCHIVO CSV DE LA TABLA CONSULTA EN SQL\n",
    "   </span>\n",
    "</span>"
   ]
  },
  {
   "cell_type": "code",
   "execution_count": 3,
   "id": "7813edc4",
   "metadata": {},
   "outputs": [
    {
     "name": "stdout",
     "output_type": "stream",
     "text": [
      "OK: CONEXION\n"
     ]
    },
    {
     "ename": "ValueError",
     "evalue": "dict contains fields not in fieldnames: 'procedencia', 'fecha', 'numeroConsulta', 'nombreMedico', 'deinpr'",
     "output_type": "error",
     "traceback": [
      "\u001b[1;31m---------------------------------------------------------------------------\u001b[0m",
      "\u001b[1;31mValueError\u001b[0m                                Traceback (most recent call last)",
      "Cell \u001b[1;32mIn[3], line 42\u001b[0m\n\u001b[0;32m     40\u001b[0m      \u001b[38;5;66;03m# Escribir los datos\u001b[39;00m\n\u001b[0;32m     41\u001b[0m      \u001b[38;5;28;01mfor\u001b[39;00m diccionario \u001b[38;5;129;01min\u001b[39;00m filas_lst_dic:\n\u001b[1;32m---> 42\u001b[0m          escritor_csv\u001b[38;5;241m.\u001b[39mwriterow(diccionario)\n\u001b[0;32m     45\u001b[0m \u001b[38;5;28mprint\u001b[39m(\u001b[38;5;124m'\u001b[39m\u001b[38;5;124mOK: ESCRITURA\u001b[39m\u001b[38;5;124m'\u001b[39m)\n\u001b[0;32m     47\u001b[0m \u001b[38;5;28mprint\u001b[39m(\u001b[38;5;124m'\u001b[39m\u001b[38;5;124mOK: SELECT\u001b[39m\u001b[38;5;124m'\u001b[39m)\n",
      "File \u001b[1;32m~\\anaconda3\\Lib\\csv.py:154\u001b[0m, in \u001b[0;36mDictWriter.writerow\u001b[1;34m(self, rowdict)\u001b[0m\n\u001b[0;32m    153\u001b[0m \u001b[38;5;28;01mdef\u001b[39;00m \u001b[38;5;21mwriterow\u001b[39m(\u001b[38;5;28mself\u001b[39m, rowdict):\n\u001b[1;32m--> 154\u001b[0m     \u001b[38;5;28;01mreturn\u001b[39;00m \u001b[38;5;28mself\u001b[39m\u001b[38;5;241m.\u001b[39mwriter\u001b[38;5;241m.\u001b[39mwriterow(\u001b[38;5;28mself\u001b[39m\u001b[38;5;241m.\u001b[39m_dict_to_list(rowdict))\n",
      "File \u001b[1;32m~\\anaconda3\\Lib\\csv.py:149\u001b[0m, in \u001b[0;36mDictWriter._dict_to_list\u001b[1;34m(self, rowdict)\u001b[0m\n\u001b[0;32m    147\u001b[0m     wrong_fields \u001b[38;5;241m=\u001b[39m rowdict\u001b[38;5;241m.\u001b[39mkeys() \u001b[38;5;241m-\u001b[39m \u001b[38;5;28mself\u001b[39m\u001b[38;5;241m.\u001b[39mfieldnames\n\u001b[0;32m    148\u001b[0m     \u001b[38;5;28;01mif\u001b[39;00m wrong_fields:\n\u001b[1;32m--> 149\u001b[0m         \u001b[38;5;28;01mraise\u001b[39;00m \u001b[38;5;167;01mValueError\u001b[39;00m(\u001b[38;5;124m\"\u001b[39m\u001b[38;5;124mdict contains fields not in fieldnames: \u001b[39m\u001b[38;5;124m\"\u001b[39m\n\u001b[0;32m    150\u001b[0m                          \u001b[38;5;241m+\u001b[39m \u001b[38;5;124m\"\u001b[39m\u001b[38;5;124m, \u001b[39m\u001b[38;5;124m\"\u001b[39m\u001b[38;5;241m.\u001b[39mjoin([\u001b[38;5;28mrepr\u001b[39m(x) \u001b[38;5;28;01mfor\u001b[39;00m x \u001b[38;5;129;01min\u001b[39;00m wrong_fields]))\n\u001b[0;32m    151\u001b[0m \u001b[38;5;28;01mreturn\u001b[39;00m (rowdict\u001b[38;5;241m.\u001b[39mget(key, \u001b[38;5;28mself\u001b[39m\u001b[38;5;241m.\u001b[39mrestval) \u001b[38;5;28;01mfor\u001b[39;00m key \u001b[38;5;129;01min\u001b[39;00m \u001b[38;5;28mself\u001b[39m\u001b[38;5;241m.\u001b[39mfieldnames)\n",
      "\u001b[1;31mValueError\u001b[0m: dict contains fields not in fieldnames: 'procedencia', 'fecha', 'numeroConsulta', 'nombreMedico', 'deinpr'"
     ]
    }
   ],
   "source": [
    "conexion = None\n",
    "try:\n",
    "    conexion = mysql.connector.connect(\n",
    "         host=\"localhost\",\n",
    "         port=\"3306\",\n",
    "         user=\"root\",\n",
    "         password=\"12345678\",\n",
    "         database=\"salud\")\n",
    "except:\n",
    "    conexion = None\n",
    "    \n",
    "if conexion != None:\n",
    "   filas_lst_dic = []\n",
    "   \n",
    "   print('OK: CONEXION')\n",
    "   query = 'SELECT * FROM Consulta'      # Crear la query\n",
    "   cursor = conexion.cursor()            # Crear el cursor. Es el que ejecuta las query\n",
    "   cursor.execute(query)                 # Ejecutar la query. El resultado se guarda en el cursor\n",
    "   resultado_lst_tup = cursor.fetchall() # Recupear los datos del cursor\n",
    "\n",
    "   for resultado_tup in resultado_lst_tup:\n",
    "       diccionario = {\n",
    "          'numeroConsulta': int(resultado_tup[0]),\n",
    "          'fecha': str(resultado_tup[1]),\n",
    "          'nombreMedico': resultado_tup[2],\n",
    "          'deinpr': resultado_tup[3],\n",
    "          'procedencia': resultado_tup[4]\n",
    "       }\n",
    "       filas_lst_dic.append(diccionario)\n",
    "   \n",
    "   # Escribir los datos en el archivo CSV\n",
    "   with open('consulta.csv', 'w', newline='') as f:\n",
    "        # Definir el encabezado del archivo CSV\n",
    "        encabezado = [\"numeroConsulta\",\"fecha\",\"nombreMedico\",\"deinpr\",\"procedencia\"]\n",
    "        escritor_csv = csv.DictWriter(f, fieldnames=encabezado, delimiter=';')\n",
    "    \n",
    "        # Escribir el encabezado\n",
    "        escritor_csv.writeheader()\n",
    "    \n",
    "        # Escribir los datos\n",
    "        for diccionario in filas_lst_dic:\n",
    "            escritor_csv.writerow(diccionario)\n",
    "            \n",
    "            \n",
    "   print('OK: ESCRITURA')\n",
    "        \n",
    "   print('OK: SELECT')\n",
    "else:\n",
    "   print('ERROR: CONEXION')   "
   ]
  },
  {
   "cell_type": "code",
   "execution_count": null,
   "id": "dd9ad835",
   "metadata": {},
   "outputs": [],
   "source": [
    "import csv\n",
    "\n",
    "# Datos a escribir en el archivo CSV\n",
    "datos = [\n",
    "    {\"Nombre\": \"Juan\", \"Edad\": 30, \"Ciudad\": \"Madrid\"},\n",
    "    {\"Nombre\": \"María\", \"Edad\": 25, \"Ciudad\": \"Barcelona\"},\n",
    "    {\"Nombre\": \"Pedro\", \"Edad\": 35, \"Ciudad\": \"Sevilla\"}\n",
    "]\n",
    "\n",
    "# Nombre del archivo CSV\n",
    "nombre_archivo = \"datos.csv\"\n",
    "\n",
    "# Escribir los datos en el archivo CSV\n",
    "with open(nombre_archivo, 'w', newline='') as archivo_csv:\n",
    "    # Definir el encabezado del archivo CSV\n",
    "    encabezado = [\"Nombre\", \"Edad\", \"Ciudad\"]\n",
    "    escritor_csv = csv.DictWriter(archivo_csv, fieldnames=encabezado, delimiter=';')\n",
    "    \n",
    "    # Escribir el encabezado\n",
    "    escritor_csv.writeheader()\n",
    "    \n",
    "    # Escribir los datos\n",
    "    for dato in datos:\n",
    "        escritor_csv.writerow(dato)\n",
    "\n",
    "print(f\"Se ha creado el archivo CSV '{nombre_archivo}' con éxito.\")"
   ]
  },
  {
   "cell_type": "code",
   "execution_count": null,
   "id": "23ee0f76",
   "metadata": {},
   "outputs": [],
   "source": [
    "\n",
    "conexion = None\n",
    "try:\n",
    "    conexion = mysql.connector.connect(\n",
    "         host=\"localhost\",\n",
    "         port=\"3306\",\n",
    "         user=\"root\",\n",
    "         password=\"12345678\",\n",
    "         database=\"salud\")\n",
    "except:\n",
    "    conexion = None\n",
    "    \n",
    "if conexion != None:\n",
    "   lista = []\n",
    "   print('OK: CONEXION')\n",
    "   query = 'SELECT * FROM Consulta'      # Crear la query\n",
    "   cursor = conexion.cursor()            # Crear el cursor. Es el que ejecuta las query\n",
    "   cursor.execute(query)                 # Ejecutar la query. El resultado se guarda en el cursor\n",
    "   resultado_lst_tup = cursor.fetchall() # Recupear los datos del cursor\n",
    "   for resultado_tup in resultado_lst_tup:\n",
    "       diccionario = {}\n",
    "       diccionario['id'] = int(resultado_tup[0])\n",
    "       diccionario['fecha'] = str(resultado_tup[1])\n",
    "       lista.append(diccionario)\n",
    "    \n",
    "   with open('consulta.json', 'w') as f2:\n",
    "        json.dump(lista, f2, indent=4) \n",
    "    \n",
    "\n",
    "   print('OK: SELECT')\n",
    "else:\n",
    "   print('ERROR: CONEXION')   "
   ]
  }
 ],
 "metadata": {
  "kernelspec": {
   "display_name": "Python 3 (ipykernel)",
   "language": "python",
   "name": "python3"
  },
  "language_info": {
   "codemirror_mode": {
    "name": "ipython",
    "version": 3
   },
   "file_extension": ".py",
   "mimetype": "text/x-python",
   "name": "python",
   "nbconvert_exporter": "python",
   "pygments_lexer": "ipython3",
   "version": "3.11.5"
  }
 },
 "nbformat": 4,
 "nbformat_minor": 5
}
