{
 "cells": [
  {
   "cell_type": "markdown",
   "id": "f368a65d",
   "metadata": {},
   "source": [
    "<center>\n",
    "   <span style=\"color:red; font-size:30px\">\n",
    "      ARCHIVO CSV\n",
    "   </span>\n",
    "</center>"
   ]
  },
  {
   "cell_type": "markdown",
   "id": "278dbb91",
   "metadata": {},
   "source": [
    "<div class=text-justify>\n",
    "Un archivo CSV (Comma-Separated Values) es un tipo de archivo de texto que se utiliza para almacenar datos tabulares de forma sencilla. Cada línea del archivo representa una fila de datos, y los valores de cada fila están separados por comas (o cualquier otro delimitador especificado, como punto y coma o tabulación).\n",
    "</div>\n",
    "<br>\n",
    "<div class=text-justify>\n",
    "Los archivos CSV son comunes en aplicaciones donde se necesita intercambiar grandes cantidades de datos tabulares entre diferentes sistemas, como bases de datos, hojas de cálculo y programas de análisis de datos. Son fáciles de crear y leer tanto para humanos como para programas informáticos, lo que los hace populares para el intercambio de datos.\n",
    "</div>"
   ]
  },
  {
   "cell_type": "markdown",
   "id": "089d0262",
   "metadata": {},
   "source": [
    "<span style=\"color:blue; font-size:15px\">\n",
    "   IMPORTAR LIBRERIA: \n",
    "   <span style=\"color:purple; font-size:15px\">\n",
    "      CSV\n",
    "   </span>\n",
    "</span>"
   ]
  },
  {
   "cell_type": "code",
   "execution_count": 16,
   "id": "649f5d2f",
   "metadata": {},
   "outputs": [],
   "source": [
    "import csv, json"
   ]
  },
  {
   "cell_type": "markdown",
   "id": "2eecdfc0",
   "metadata": {},
   "source": [
    "<span style=\"color:blue; font-size:15px\">\n",
    "   EJEMPLO 01: \n",
    "   <span style=\"color:purple; font-size:15px\">\n",
    "      LEER ARCHIVO CSV\n",
    "   </span>\n",
    "</span>"
   ]
  },
  {
   "cell_type": "code",
   "execution_count": null,
   "id": "69343692",
   "metadata": {},
   "outputs": [],
   "source": [
    "def ejemplo1():\n",
    "    nra = 'Transaccion.csv'\n",
    "    try:\n",
    "        with open(nra, 'r') as f:\n",
    "             filas = csv.reader(f,delimiter=';')\n",
    "             filas_lst_lst = list(filas)\n",
    "             for transaccion_lst in filas_lst_lst:\n",
    "                 print(transaccion_lst)\n",
    "    except:\n",
    "        print('ERROR: LECTURA')\n",
    "        \n",
    "ejemplo1()"
   ]
  },
  {
   "cell_type": "markdown",
   "id": "74c63dfc",
   "metadata": {},
   "source": [
    "<span style=\"color:blue; font-size:15px\">\n",
    "   EJEMPLO 02: \n",
    "   <span style=\"color:purple; font-size:15px\">\n",
    "      CONVERTIR UN ARCHIVO CSV TO JSON\n",
    "   </span>\n",
    "</span>"
   ]
  },
  {
   "cell_type": "code",
   "execution_count": null,
   "id": "50b9b9c9",
   "metadata": {},
   "outputs": [],
   "source": [
    "def ejemplo2():\n",
    "    nra = 'Transaccion.csv'\n",
    "    try:\n",
    "        with open(nra, 'r') as f:\n",
    "             filas = csv.reader(f,delimiter=';')\n",
    "             filas_lst_lst = list(filas)\n",
    "             filas_lst_dic = []\n",
    "             for transaccion_lst in filas_lst_lst:\n",
    "                 diccionario = {}\n",
    "                 diccionario['idTransaccion'] = transaccion_lst[0]\n",
    "                 diccionario['ciudad'] = transaccion_lst[1]\n",
    "                 diccionario['zona'] = transaccion_lst[2]\n",
    "                 diccionario['ventas'] = transaccion_lst[3]\n",
    "                 diccionario['formaPago'] = transaccion_lst[4]\n",
    "                 diccionario['categoria'] = transaccion_lst[5]\n",
    "                 filas_lst_dic.append(diccionario)\n",
    "            \n",
    "             for transaccion_dic in filas_lst_dic:\n",
    "                 print(transaccion_dic)\n",
    "    except:\n",
    "        print('ERROR: LECTURA')\n",
    "        \n",
    "ejemplo2()"
   ]
  },
  {
   "cell_type": "markdown",
   "id": "e2798a8a",
   "metadata": {},
   "source": [
    "<span style=\"color:blue; font-size:15px\">\n",
    "   EJEMPLO 03: \n",
    "   <span style=\"color:purple; font-size:15px\">\n",
    "      GRABAR UNA ESTRUCTURA JSON A UN ARCHIVO\n",
    "   </span>\n",
    "</span>"
   ]
  },
  {
   "cell_type": "code",
   "execution_count": 27,
   "id": "85d09a8f",
   "metadata": {},
   "outputs": [
    {
     "name": "stdout",
     "output_type": "stream",
     "text": [
      "OK: ESCRIBIR\n"
     ]
    }
   ],
   "source": [
    "def ejemplo3():\n",
    "    nra = 'Transaccion.csv'\n",
    "    filas_lst_dic = []\n",
    "    try:\n",
    "        with open(nra, 'r') as f:\n",
    "             filas = csv.reader(f,delimiter=';')\n",
    "             filas_lst_lst = list(filas)\n",
    "             i = 0\n",
    "             for transaccion_lst in filas_lst_lst:\n",
    "                 if i != 0: \n",
    "                     diccionario = {}\n",
    "                     diccionario['idTransaccion'] = int(transaccion_lst[0])\n",
    "                     diccionario['ciudad'] = transaccion_lst[1]\n",
    "                     diccionario['zona'] = transaccion_lst[2]\n",
    "                     diccionario['ventas'] = float(transaccion_lst[3])\n",
    "                     diccionario['formaPago'] = transaccion_lst[4]\n",
    "                     diccionario['categoria'] = transaccion_lst[5]\n",
    "                     filas_lst_dic.append(diccionario)\n",
    "                 i = i + 1\n",
    "                    \n",
    "             # GRABAR ESTRUCTURA JSON A UN ARCHIVO   \n",
    "             with open('transaccion.json', 'w') as f1:\n",
    "                  json.dump(filas_lst_dic, f1, indent=4) \n",
    "                  print('OK: ESCRIBIR')\n",
    "  \n",
    "    except:\n",
    "        print('ERROR: ESCRIBIR')\n",
    "        \n",
    "ejemplo3()"
   ]
  }
 ],
 "metadata": {
  "kernelspec": {
   "display_name": "Python 3 (ipykernel)",
   "language": "python",
   "name": "python3"
  },
  "language_info": {
   "codemirror_mode": {
    "name": "ipython",
    "version": 3
   },
   "file_extension": ".py",
   "mimetype": "text/x-python",
   "name": "python",
   "nbconvert_exporter": "python",
   "pygments_lexer": "ipython3",
   "version": "3.11.5"
  }
 },
 "nbformat": 4,
 "nbformat_minor": 5
}
