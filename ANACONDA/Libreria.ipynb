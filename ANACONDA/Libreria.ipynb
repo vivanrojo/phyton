{
 "cells": [
  {
   "cell_type": "markdown",
   "id": "41b8baf5",
   "metadata": {},
   "source": [
    "<center>\n",
    "   <span style=\"color:red; font-size:30px\">\n",
    "      LIBRERIA\n",
    "   </span>\n",
    "</center>"
   ]
  },
  {
   "cell_type": "markdown",
   "id": "bbc36d8b",
   "metadata": {},
   "source": [
    "<span style=\"color:blue; font-size:15px\">\n",
    "   EJEMPLO 01: \n",
    "   <span style=\"color:purple; font-size:15px\">\n",
    "      ENTRADA DE UN NUMEROS ENTERO POSITIVO Y NEGATIVO\n",
    "   </span>\n",
    "</span>"
   ]
  },
  {
   "cell_type": "code",
   "execution_count": null,
   "id": "b53c25f3",
   "metadata": {},
   "outputs": [],
   "source": [
    "import re\n",
    "def numeroEnteroPositivoNegativo(mensaje):\n",
    "    patron = '-[0-9]+||[0-9]+'\n",
    "    while True:\n",
    "          cadena = input(mensaje)\n",
    "          correcto = bool(re.fullmatch(patron,cadena) and int(cadena))\n",
    "          if not correcto:\n",
    "             print('ENTRADA INCORRECTA')\n",
    "          else:\n",
    "             break\n",
    "    return int(cadena)          "
   ]
  },
  {
   "cell_type": "markdown",
   "id": "4e98148c",
   "metadata": {},
   "source": [
    "<div class=text-justify>\n",
    "<span style=\"color:blue; font-size:15px\">\n",
    "   EJEMPLO 02: \n",
    "   <span style=\"color:purple; font-size:15px\">\n",
    "      USAR LA LIBRERIA. HACER UN PROGRAMA QUE PIDA UN NUMERO POR TECLADO Y FINALIZA CUANDO SE INGRESA -9. DESPUES DE FINALIZAR MOSTRARA LA SUMA DE TODOS LOS NUMEROS INGRESADOS. EL NUMERO TIENE QUE SER UN ENTERO POSITIVO O NEGATIVO\n",
    "   </span>\n",
    "</span>\n",
    "</div>"
   ]
  },
  {
   "cell_type": "code",
   "execution_count": null,
   "id": "ca64bb91",
   "metadata": {},
   "outputs": [],
   "source": [
    "import os\n",
    "os.system('cls')\n",
    "\n",
    "a = 0\n",
    "while True:\n",
    "      numero = numeroEnteroPositivoNegativo('INGRESE UN ENTERO POSTIVO O NEGATIVO Y CERO PARA TERMINAR? ')\n",
    "      if numero == -9:\n",
    "         break\n",
    "      a = a + numero\n",
    "       \n",
    "print(\"SUMA DE NUMEROS INGRESADOS: \", a)\n",
    "printe('GRACIAS POR SU VISITA')"
   ]
  }
 ],
 "metadata": {
  "kernelspec": {
   "display_name": "Python 3 (ipykernel)",
   "language": "python",
   "name": "python3"
  },
  "language_info": {
   "codemirror_mode": {
    "name": "ipython",
    "version": 3
   },
   "file_extension": ".py",
   "mimetype": "text/x-python",
   "name": "python",
   "nbconvert_exporter": "python",
   "pygments_lexer": "ipython3",
   "version": "3.11.5"
  }
 },
 "nbformat": 4,
 "nbformat_minor": 5
}
