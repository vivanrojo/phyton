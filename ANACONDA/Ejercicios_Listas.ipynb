{
 "cells": [
  {
   "cell_type": "markdown",
   "id": "35990629",
   "metadata": {},
   "source": [
    "<center>\n",
    "   <span style=\"color:red; font-size:30px\">\n",
    "      EJERCICIOS LISTAS\n",
    "   </span>\n",
    "</center>"
   ]
  },
  {
   "cell_type": "markdown",
   "id": "26e07f31",
   "metadata": {},
   "source": [
    "<span style=\"color:blue; font-size:15px\">\n",
    "   EJEMPLO 01: \n",
    "   <span style=\"color:purple; font-size:15px\">\n",
    "      CREAR UNA LISTA DE TAMAÑO 10 CON NUMEROS ALEATORIOS [1,6]\n",
    "   </span>\n",
    "</span>"
   ]
  },
  {
   "cell_type": "code",
   "execution_count": null,
   "id": "0f7c6331",
   "metadata": {},
   "outputs": [],
   "source": [
    "import os, random\n",
    "\n",
    "def ejemplo1():\n",
    "    enteros_lst = []\n",
    "    for i in range(10): # 0, 1, 2, ... 9\n",
    "        enteros_lst.append(random.randint(1,6))\n",
    "    print(enteros_lst)\n",
    "\n",
    "os.system('cls')\n",
    "ejemplo1()"
   ]
  },
  {
   "cell_type": "markdown",
   "id": "ccdd2c9a",
   "metadata": {},
   "source": [
    "<span style=\"color:blue; font-size:15px\">\n",
    "   EJEMPLO 02: \n",
    "   <span style=\"color:purple; font-size:15px\">\n",
    "      DEL EJERCICIO ANTERIOR CREAR DOS LISTAS UNA DE PARES Y OTRAS DE IMPARES\n",
    "   </span>\n",
    "</span>"
   ]
  },
  {
   "cell_type": "code",
   "execution_count": 1,
   "id": "d190b51d",
   "metadata": {},
   "outputs": [
    {
     "name": "stdout",
     "output_type": "stream",
     "text": [
      "LISTA ORIGINAL:  [3, 2, 3, 6, 5, 5, 6, 5, 5, 5]\n",
      "LISTA PARES   :  [2, 6, 6]\n",
      "LISTA IMPARES :  [3, 3, 5, 5, 5, 5, 5]\n"
     ]
    }
   ],
   "source": [
    "import os, random\n",
    "\n",
    "def ejemplo1():\n",
    "    enteros_lst = []\n",
    "    pares_lst = []\n",
    "    impares_lst = []\n",
    "    \n",
    "    for i in range(10): # 0, 1, 2, ... 9\n",
    "        enteros_lst.append(random.randint(1,6))\n",
    "    \n",
    "    for numero in enteros_lst:\n",
    "        if numero % 2 == 0:\n",
    "           pares_lst.append(numero)\n",
    "        else:\n",
    "           impares_lst.append(numero) \n",
    "      \n",
    "    print('LISTA ORIGINAL: ', enteros_lst)\n",
    "    print('LISTA PARES   : ', pares_lst)\n",
    "    print('LISTA IMPARES : ', impares_lst)\n",
    "\n",
    "os.system('cls')\n",
    "ejemplo1()"
   ]
  }
 ],
 "metadata": {
  "kernelspec": {
   "display_name": "Python 3 (ipykernel)",
   "language": "python",
   "name": "python3"
  },
  "language_info": {
   "codemirror_mode": {
    "name": "ipython",
    "version": 3
   },
   "file_extension": ".py",
   "mimetype": "text/x-python",
   "name": "python",
   "nbconvert_exporter": "python",
   "pygments_lexer": "ipython3",
   "version": "3.11.5"
  }
 },
 "nbformat": 4,
 "nbformat_minor": 5
}
