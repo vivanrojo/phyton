{
 "cells": [
  {
   "cell_type": "markdown",
   "id": "30d15cae",
   "metadata": {},
   "source": [
    "<center>\n",
    "   <span style=\"color:red; font-size:30px\">\n",
    "      MYSQL\n",
    "   </span>\n",
    "</center>"
   ]
  },
  {
   "cell_type": "markdown",
   "id": "e39a532f",
   "metadata": {},
   "source": [
    "<div class=text-justify>\n",
    "MySQL es un sistema de gestión de bases de datos relacionales (RDBMS, por sus siglas en inglés) de código abierto. Es uno de los sistemas de bases de datos más populares en el mundo, ampliamente utilizado en aplicaciones web y empresariales debido a su rendimiento, confiabilidad y facilidad de uso.\n",
    "</div>\n",
    "<br>\n",
    "<div class=text-justify>\n",
    "Desarrollado originalmente por MySQL AB (ahora parte de Oracle Corporation), MySQL utiliza el lenguaje de consulta estructurado (SQL) para administrar y manipular datos almacenados en tablas relacionales. Ofrece soporte para una variedad de sistemas operativos, incluidos Linux, Windows, macOS, entre otros, y es compatible con una amplia gama de lenguajes de programación y entornos de desarrollo.\n",
    "</div>\n",
    "<br>\n",
    "<div class=text-justify>\n",
    "MySQL es conocido por ser rápido, escalable y altamente confiable. Además, cuenta con una comunidad activa de desarrolladores y una amplia documentación, lo que lo convierte en una opción popular tanto para pequeñas aplicaciones como para grandes sistemas empresariales.\n",
    "</div>"
   ]
  },
  {
   "cell_type": "markdown",
   "id": "25d700db",
   "metadata": {},
   "source": [
    "<span style=\"color:blue; font-size:15px\">\n",
    "   INSTALAR MODULO: \n",
    "   <span style=\"color:purple; font-size:15px\">\n",
    "      MYSQL.CONNECTOR\n",
    "   </span>\n",
    "</span>"
   ]
  },
  {
   "cell_type": "code",
   "execution_count": null,
   "id": "ef757510",
   "metadata": {},
   "outputs": [],
   "source": [
    "!pip install mysql-connector-python"
   ]
  },
  {
   "cell_type": "markdown",
   "id": "6e14a995",
   "metadata": {},
   "source": [
    "<span style=\"color:blue; font-size:15px\">\n",
    "   CARGAR LIBRERIA: \n",
    "   <span style=\"color:purple; font-size:15px\">\n",
    "      MYSQL.CONNECTOR\n",
    "   </span>\n",
    "</span>"
   ]
  },
  {
   "cell_type": "code",
   "execution_count": 1,
   "id": "ed85b89d",
   "metadata": {},
   "outputs": [],
   "source": [
    "import mysql.connector\n",
    "from datetime import datetime\n",
    "import json\n",
    "import csv"
   ]
  },
  {
   "cell_type": "markdown",
   "id": "79ba8d89",
   "metadata": {},
   "source": [
    "<span style=\"color:blue; font-size:15px\">\n",
    "   EJEMPLO 01: \n",
    "   <span style=\"color:purple; font-size:15px\">\n",
    "      CREAR UNA CONEXION A UNA BASE DE DATOS MYSQL\n",
    "   </span>\n",
    "</span>"
   ]
  },
  {
   "cell_type": "code",
   "execution_count": null,
   "id": "aeb5fe62",
   "metadata": {},
   "outputs": [],
   "source": [
    "conexion = None\n",
    "try:\n",
    "    conexion = mysql.connector.connect(\n",
    "         host=\"localhost\",\n",
    "         port=\"3306\",\n",
    "         user=\"root\",\n",
    "         password=\"12345678\",\n",
    "         database=\"salud\")\n",
    "except:\n",
    "    conexion = None\n",
    "    \n",
    "if conexion != None:\n",
    "   print('OK: CONEXION')\n",
    "else:\n",
    "   print('ERROR: CONEXION')   "
   ]
  },
  {
   "cell_type": "markdown",
   "id": "19589b92",
   "metadata": {},
   "source": [
    "<span style=\"color:blue; font-size:15px\">\n",
    "   EJEMPLO 02: \n",
    "   <span style=\"color:purple; font-size:15px\">\n",
    "      MOSTRAR TODOS LOS REGISTROS DE LA TABLA CONSULTA\n",
    "   </span>\n",
    "</span>"
   ]
  },
  {
   "cell_type": "code",
   "execution_count": null,
   "id": "3c2b97d4",
   "metadata": {},
   "outputs": [],
   "source": [
    "conexion = None\n",
    "try:\n",
    "    conexion = mysql.connector.connect(\n",
    "         host=\"localhost\",\n",
    "         port=\"3306\",\n",
    "         user=\"root\",\n",
    "         password=\"12345678\",\n",
    "         database=\"salud\")\n",
    "except:\n",
    "    conexion = None\n",
    "    \n",
    "if conexion != None:\n",
    "   print('OK: CONEXION')\n",
    "   query = 'SELECT * FROM Consulta'  # Crear la query\n",
    "   cursor = conexion.cursor()        # Crear el cursor. Es el que ejecuta las query\n",
    "   cursor.execute(query)             # Ejecutar la query. El resultado se guarda en el cursor\n",
    "   resultado = cursor.fetchall()  \n",
    "   print(resultado)\n",
    "   print('OK: SELECT')\n",
    "else:\n",
    "   print('ERROR: CONEXION')   "
   ]
  },
  {
   "cell_type": "markdown",
   "id": "9caa12b8",
   "metadata": {},
   "source": [
    "<span style=\"color:blue; font-size:15px\">\n",
    "   EJEMPLO 03: \n",
    "   <span style=\"color:purple; font-size:15px\">\n",
    "      FORMATEAR RESULTADO\n",
    "   </span>\n",
    "</span>"
   ]
  },
  {
   "cell_type": "code",
   "execution_count": null,
   "id": "e2cc3335",
   "metadata": {},
   "outputs": [],
   "source": [
    "def formatear(tupla):\n",
    "    print('%5s %-12s %-40s %-10s %-10s' % (tupla[0],tupla[1],tupla[2],tupla[3],tupla[4]))\n",
    "    \n",
    "\n",
    "conexion = None\n",
    "try:\n",
    "    conexion = mysql.connector.connect(\n",
    "         host=\"localhost\",\n",
    "         port=\"3306\",\n",
    "         user=\"root\",\n",
    "         password=\"12345678\",\n",
    "         database=\"salud\")\n",
    "except:\n",
    "    conexion = None\n",
    "    \n",
    "if conexion != None:\n",
    "   print('OK: CONEXION')\n",
    "   query = 'SELECT * FROM Consulta'      # Crear la query\n",
    "   cursor = conexion.cursor()            # Crear el cursor. Es el que ejecuta las query\n",
    "   cursor.execute(query)                 # Ejecutar la query. El resultado se guarda en el cursor\n",
    "   resultado_lst_tup = cursor.fetchall() # Recupear los datos del cursor\n",
    "   for resultado_tup in resultado_lst_tup:\n",
    "       formatear(resultado_tup)\n",
    "   print('OK: SELECT')\n",
    "else:\n",
    "   print('ERROR: CONEXION')   "
   ]
  },
  {
   "cell_type": "markdown",
   "id": "6cba5a38",
   "metadata": {},
   "source": [
    "<span style=\"color:blue; font-size:15px\">\n",
    "   EJEMPLO 04: \n",
    "   <span style=\"color:purple; font-size:15px\">\n",
    "      CREAR UN ARCHIVO JSON DE LA TABLA CONSULTA EN SQL\n",
    "   </span>\n",
    "</span>"
   ]
  },
  {
   "cell_type": "code",
   "execution_count": null,
   "id": "b807c807",
   "metadata": {},
   "outputs": [],
   "source": [
    "conexion = None\n",
    "try:\n",
    "    conexion = mysql.connector.connect(\n",
    "         host=\"localhost\",\n",
    "         port=\"3306\",\n",
    "         user=\"root\",\n",
    "         password=\"12345678\",\n",
    "         database=\"salud\")\n",
    "except:\n",
    "    conexion = None\n",
    "    \n",
    "if conexion != None:\n",
    "   filas_lst_dic = []\n",
    "   print('OK: CONEXION')\n",
    "   query = 'SELECT * FROM Consulta'      # Crear la query\n",
    "   cursor = conexion.cursor()            # Crear el cursor. Es el que ejecuta las query\n",
    "   cursor.execute(query)                 # Ejecutar la query. El resultado se guarda en el cursor\n",
    "   resultado_lst_tup = cursor.fetchall() # Recupear los datos del cursor\n",
    "\n",
    "   for resultado_tup in resultado_lst_tup:\n",
    "       diccionario = {\n",
    "          'numeroConsulta': int(resultado_tup[0]),\n",
    "          'fecha': str(resultado_tup[1]),\n",
    "          'nombreMedico': resultado_tup[2],\n",
    "          'deinpr': resultado_tup[3],\n",
    "          'procedencia': resultado_tup[4]\n",
    "       }\n",
    "       filas_lst_dic.append(diccionario)\n",
    "   \n",
    "   with open('consulta.json', 'w') as f:\n",
    "         json.dump(filas_lst_dic, f, indent=4) \n",
    "         print('OK: ESCRITURA')\n",
    "        \n",
    "   print('OK: SELECT')\n",
    "else:\n",
    "   print('ERROR: CONEXION')   "
   ]
  },
  {
   "cell_type": "markdown",
   "id": "ae1df3cc",
   "metadata": {},
   "source": [
    "<span style=\"color:blue; font-size:15px\">\n",
    "   EJEMPLO 05: \n",
    "   <span style=\"color:purple; font-size:15px\">\n",
    "      CREAR UN ARCHIVO CSV DE LA TABLA CONSULTA EN SQL\n",
    "   </span>\n",
    "</span>"
   ]
  },
  {
   "cell_type": "code",
   "execution_count": 5,
   "id": "116b0f26",
   "metadata": {},
   "outputs": [
    {
     "name": "stdout",
     "output_type": "stream",
     "text": [
      "OK: CONEXION\n",
      "OK: ESCRITURA\n",
      "OK: SELECT\n"
     ]
    }
   ],
   "source": [
    "conexion = None\n",
    "try:\n",
    "    conexion = mysql.connector.connect(\n",
    "         host=\"localhost\",\n",
    "         port=\"3306\",\n",
    "         user=\"root\",\n",
    "         password=\"12345678\",\n",
    "         database=\"salud\")\n",
    "except:\n",
    "    conexion = None\n",
    "    \n",
    "if conexion != None:\n",
    "   filas_lst_dic = []\n",
    "   \n",
    "   print('OK: CONEXION')\n",
    "   query = 'SELECT * FROM Consulta'      # Crear la query\n",
    "   cursor = conexion.cursor()            # Crear el cursor. Es el que ejecuta las query\n",
    "   cursor.execute(query)                 # Ejecutar la query. El resultado se guarda en el cursor\n",
    "   resultado_lst_tup = cursor.fetchall() # Recupear los datos del cursor\n",
    "\n",
    "   for resultado_tup in resultado_lst_tup:\n",
    "       diccionario = {\n",
    "          'numeroConsulta': int(resultado_tup[0]),\n",
    "          'fecha': str(resultado_tup[1]),\n",
    "          'nombreMedico': resultado_tup[2],\n",
    "          'deinpr': resultado_tup[3],\n",
    "          'procedencia': resultado_tup[4]\n",
    "       }\n",
    "       filas_lst_dic.append(diccionario)\n",
    "   \n",
    "   # Escribir los datos en el archivo CSV\n",
    "   with open('consulta.csv', 'w', newline='') as f:\n",
    "        # Definir el encabezado del archivo CSV\n",
    "        #encabezado = [\"numeroConsulta\",\"fecha\",\"nombreMedico\",\"deinpr\",\"procedencia\"]\n",
    "        encabezado = list(diccionario.keys())\n",
    "        escritor_csv = csv.DictWriter(f, fieldnames=encabezado, delimiter=';')\n",
    "    \n",
    "        # Escribir el encabezado\n",
    "        escritor_csv.writeheader()\n",
    "    \n",
    "        # Escribir los datos\n",
    "        for diccionario in filas_lst_dic:\n",
    "            escritor_csv.writerow(diccionario)\n",
    "            \n",
    "            \n",
    "   print('OK: ESCRITURA')\n",
    "        \n",
    "   print('OK: SELECT')\n",
    "else:\n",
    "   print('ERROR: CONEXION')   "
   ]
  },
  {
   "cell_type": "code",
   "execution_count": null,
   "id": "d904faf0",
   "metadata": {},
   "outputs": [],
   "source": [
    "import csv\n",
    "\n",
    "# Datos a escribir en el archivo CSV\n",
    "datos = [\n",
    "    {\"Nombre\": \"Juan\", \"Edad\": 30, \"Ciudad\": \"Madrid\"},\n",
    "    {\"Nombre\": \"María\", \"Edad\": 25, \"Ciudad\": \"Barcelona\"},\n",
    "    {\"Nombre\": \"Pedro\", \"Edad\": 35, \"Ciudad\": \"Sevilla\"}\n",
    "]\n",
    "\n",
    "# Nombre del archivo CSV\n",
    "nombre_archivo = \"datos.csv\"\n",
    "\n",
    "# Escribir los datos en el archivo CSV\n",
    "with open(nombre_archivo, 'w', newline='') as archivo_csv:\n",
    "    # Definir el encabezado del archivo CSV\n",
    "    encabezado = [\"Nombre\", \"Edad\", \"Ciudad\"]\n",
    "    escritor_csv = csv.DictWriter(archivo_csv, fieldnames=encabezado, delimiter=';')\n",
    "    \n",
    "    # Escribir el encabezado\n",
    "    escritor_csv.writeheader()\n",
    "    \n",
    "    # Escribir los datos\n",
    "    for dato in datos:\n",
    "        escritor_csv.writerow(dato)\n",
    "\n",
    "print(f\"Se ha creado el archivo CSV '{nombre_archivo}' con éxito.\")"
   ]
  },
  {
   "cell_type": "code",
   "execution_count": null,
   "id": "ff6c979c",
   "metadata": {},
   "outputs": [],
   "source": [
    "\n",
    "conexion = None\n",
    "try:\n",
    "    conexion = mysql.connector.connect(\n",
    "         host=\"localhost\",\n",
    "         port=\"3306\",\n",
    "         user=\"root\",\n",
    "         password=\"12345678\",\n",
    "         database=\"salud\")\n",
    "except:\n",
    "    conexion = None\n",
    "    \n",
    "if conexion != None:\n",
    "   lista = []\n",
    "   print('OK: CONEXION')\n",
    "   query = 'SELECT * FROM Consulta'      # Crear la query\n",
    "   cursor = conexion.cursor()            # Crear el cursor. Es el que ejecuta las query\n",
    "   cursor.execute(query)                 # Ejecutar la query. El resultado se guarda en el cursor\n",
    "   resultado_lst_tup = cursor.fetchall() # Recupear los datos del cursor\n",
    "   for resultado_tup in resultado_lst_tup:\n",
    "       diccionario = {}\n",
    "       diccionario['id'] = int(resultado_tup[0])\n",
    "       diccionario['fecha'] = str(resultado_tup[1])\n",
    "       lista.append(diccionario)\n",
    "    \n",
    "   with open('consulta.json', 'w') as f2:\n",
    "        json.dump(lista, f2, indent=4) \n",
    "    \n",
    "\n",
    "   print('OK: SELECT')\n",
    "else:\n",
    "   print('ERROR: CONEXION')   "
   ]
  }
 ],
 "metadata": {
  "kernelspec": {
   "display_name": "Python 3 (ipykernel)",
   "language": "python",
   "name": "python3"
  },
  "language_info": {
   "codemirror_mode": {
    "name": "ipython",
    "version": 3
   },
   "file_extension": ".py",
   "mimetype": "text/x-python",
   "name": "python",
   "nbconvert_exporter": "python",
   "pygments_lexer": "ipython3",
   "version": "3.11.5"
  }
 },
 "nbformat": 4,
 "nbformat_minor": 5
}
