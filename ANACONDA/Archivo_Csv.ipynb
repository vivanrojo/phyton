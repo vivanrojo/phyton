{
 "cells": [
  {
   "cell_type": "markdown",
   "id": "113b3c5c",
   "metadata": {},
   "source": [
    "<center>\n",
    "   <span style=\"color:red; font-size:30px\">\n",
    "      ARCHIVO CSV\n",
    "   </span>\n",
    "</center>"
   ]
  },
  {
   "cell_type": "markdown",
   "id": "86772e7b",
   "metadata": {},
   "source": [
    "<span style=\"color:blue; font-size:15px\">\n",
    "   EJEMPLO 01: \n",
    "   <span style=\"color:purple; font-size:15px\">\n",
    "      LEER UN ARCHIVO CSV\n",
    "   </span>\n",
    "</span>"
   ]
  },
  {
   "cell_type": "code",
   "execution_count": 1,
   "id": "7b02ae2f",
   "metadata": {},
   "outputs": [
    {
     "name": "stdout",
     "output_type": "stream",
     "text": [
      "ERROR: LECTURA\n"
     ]
    }
   ],
   "source": [
    "import os\n",
    "import csv\n",
    "\n",
    "nra = 'trabajador.csv'\n",
    "try:\n",
    "    with open(nra, 'r') as f:\n",
    "         filas = csv.reader(f, delimiter=';')\n",
    "         filas_lst = list(filas)\n",
    "         for fila in filas_lst:\n",
    "             print(fila)\n",
    "    \n",
    "except:\n",
    "    print('ERROR: LECTURA')"
   ]
  },
  {
   "cell_type": "markdown",
   "id": "88ec58a8",
   "metadata": {},
   "source": [
    "<span style=\"color:blue; font-size:15px\">\n",
    "   EJEMPLO 02: \n",
    "   <span style=\"color:purple; font-size:15px\">\n",
    "      EL ARCHIVO TRABAJADOR.CSV DEL EJERCICIO ANTERIOR CONVERTIRLO A UN ARCHIVO JSON\n",
    "   </span>\n",
    "</span>"
   ]
  },
  {
   "cell_type": "code",
   "execution_count": 5,
   "id": "ad57ccac",
   "metadata": {},
   "outputs": [
    {
     "name": "stdout",
     "output_type": "stream",
     "text": [
      "OK: ESCRIBIR\n"
     ]
    }
   ],
   "source": [
    "'''\n",
    "[\n",
    "    {\n",
    "       'idTrabajador': 'T1',\n",
    "       'nombre': 'Lucrezia',\n",
    "       'apaterno': 'Berroeta',\n",
    "       'tipoTrabajador': 1,\n",
    "       'parametrosSueldo': [532]\n",
    "    },\n",
    "    {\n",
    "       'idTrabajador': 'T2',\n",
    "       'nombre': 'Faith',\n",
    "       'apaterno': 'Olmedo',\n",
    "       'tipoTrabajador': 4,\n",
    "       'parametrosSueldo': [149,10]\n",
    "    }\n",
    "]\n",
    "'''\n",
    "import os\n",
    "import csv, json\n",
    "\n",
    "nra1 = 'trabajador.csv'    # ENTRADA\n",
    "nra2 = 'trabajador.json'   # SALIDA\n",
    "trabajadores_lst_dic = []\n",
    "trabajador_dic = {}\n",
    "try:\n",
    "    with open(nra1, 'r') as f1:\n",
    "         filas = csv.reader(f1, delimiter=';')\n",
    "         filas_lst = list(filas)\n",
    "         for fila in filas_lst:\n",
    "             trabajador_dic['idTrabajador'] = fila[0]\n",
    "             trabajador_dic['nombre'] = fila[1]\n",
    "             trabajador_dic['apaterno'] = fila[2]\n",
    "             trabajador_dic['tipoTrabajador'] = fila[3]\n",
    "             trabajador_dic['parametrosSueldo'] = fila[4].split('#')\n",
    "             trabajadores_lst_dic.append(trabajador_dic)\n",
    "             trabajador_dic = {}\n",
    "         \n",
    "         with open(nra2, 'w') as f2:\n",
    "              json.dump(trabajadores_lst_dic, f2, indent=4) \n",
    "            \n",
    "         print('OK: ESCRIBIR')\n",
    "except:\n",
    "    print('ERROR: LECTURA')\n",
    "\n",
    "\n"
   ]
  }
 ],
 "metadata": {
  "kernelspec": {
   "display_name": "Python 3 (ipykernel)",
   "language": "python",
   "name": "python3"
  },
  "language_info": {
   "codemirror_mode": {
    "name": "ipython",
    "version": 3
   },
   "file_extension": ".py",
   "mimetype": "text/x-python",
   "name": "python",
   "nbconvert_exporter": "python",
   "pygments_lexer": "ipython3",
   "version": "3.11.5"
  }
 },
 "nbformat": 4,
 "nbformat_minor": 5
}
