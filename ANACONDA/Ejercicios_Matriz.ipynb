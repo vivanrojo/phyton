{
 "cells": [
  {
   "cell_type": "markdown",
   "id": "d2daf9be",
   "metadata": {},
   "source": [
    "<center>\n",
    "   <span style=\"color:red; font-size:30px\">\n",
    "      EJERCICIOS MATRIZ (LISTAS DE LISTAS)\n",
    "   </span>\n",
    "</center>"
   ]
  },
  {
   "cell_type": "markdown",
   "id": "782e73d9",
   "metadata": {},
   "source": [
    "<div class=text-justify>\n",
    "<span style=\"color:blue; font-size:15px\">\n",
    "   EJEMPLO 01: \n",
    "   <span style=\"color:purple; font-size:15px\">\n",
    "      CREAR Y LLENAR UNA MATRIZ DINAMICA DE DIMENSION NF X NC CON NUMEROS DE UN DADO\n",
    "   </span>\n",
    "</span>\n",
    "</div>"
   ]
  },
  {
   "cell_type": "code",
   "execution_count": null,
   "id": "1d8c7152",
   "metadata": {},
   "outputs": [],
   "source": [
    "import os, random\n",
    "os.system('cls')\n",
    "\n",
    "nf = int(input('INGRESE NUMERO FILAS? '))\n",
    "nc = int(input('INGRESE NUMERO COLUMNAS? '))\n",
    "\n",
    "matriz = []\n",
    "\n",
    "# llenar Matriz\n",
    "for i in range(nf):\n",
    "    fila = []\n",
    "    for j in range(nc):\n",
    "        fila.append(random.randint(1,6))\n",
    "    matriz.append(fila)\n",
    "\n",
    "# Mostrar Matriz\n",
    "for i in range(nf):\n",
    "    for j in range(nc):\n",
    "        print(matriz[i][j], end='  ')\n",
    "    print()"
   ]
  }
 ],
 "metadata": {
  "kernelspec": {
   "display_name": "Python 3 (ipykernel)",
   "language": "python",
   "name": "python3"
  },
  "language_info": {
   "codemirror_mode": {
    "name": "ipython",
    "version": 3
   },
   "file_extension": ".py",
   "mimetype": "text/x-python",
   "name": "python",
   "nbconvert_exporter": "python",
   "pygments_lexer": "ipython3",
   "version": "3.11.5"
  }
 },
 "nbformat": 4,
 "nbformat_minor": 5
}
